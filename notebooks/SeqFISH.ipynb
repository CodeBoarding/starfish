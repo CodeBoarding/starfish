{
 "cells": [
  {
   "cell_type": "markdown",
   "metadata": {},
   "source": [
    "# Starfish SeqFISH Spot Detection Workbook"
   ]
  },
  {
   "cell_type": "markdown",
   "metadata": {},
   "source": [
    "## Process the data as described"
   ]
  },
  {
   "cell_type": "code",
   "execution_count": 112,
   "metadata": {},
   "outputs": [],
   "source": [
    "%gui qt5"
   ]
  },
  {
   "cell_type": "code",
   "execution_count": 113,
   "metadata": {},
   "outputs": [],
   "source": [
    "%matplotlib inline"
   ]
  },
  {
   "cell_type": "code",
   "execution_count": 114,
   "metadata": {},
   "outputs": [],
   "source": [
    "import os\n",
    "from copy import deepcopy\n",
    "from itertools import product\n",
    "\n",
    "import numpy as np\n",
    "import pandas as pd\n",
    "import skimage.filters\n",
    "import skimage.morphology\n",
    "from skimage.transform import SimilarityTransform, warp\n",
    "from tqdm import tqdm\n",
    "\n",
    "import starfish\n",
    "import starfish.data\n",
    "from starfish.spots import DetectSpots\n",
    "from starfish.types import Axes\n",
    "\n",
    "import matplotlib.pyplot as plt"
   ]
  },
  {
   "cell_type": "markdown",
   "metadata": {},
   "source": [
    "Select data for a fragment of a single field of view and look at the raw data."
   ]
  },
  {
   "cell_type": "code",
   "execution_count": 177,
   "metadata": {},
   "outputs": [],
   "source": [
    "%gui qt5"
   ]
  },
  {
   "cell_type": "code",
   "execution_count": 176,
   "metadata": {},
   "outputs": [
    {
     "data": {
      "text/plain": [
       "<napari.components._viewer.model.Viewer at 0x25a60c358>"
      ]
     },
     "execution_count": 176,
     "metadata": {},
     "output_type": "execute_result"
    }
   ],
   "source": [
    "starfish.display(img)"
   ]
  },
  {
   "cell_type": "code",
   "execution_count": 116,
   "metadata": {},
   "outputs": [
    {
     "name": "stderr",
     "output_type": "stream",
     "text": [
      "100%|██████████| 1740/1740 [00:08<00:00, 194.04it/s]\n"
     ]
    },
    {
     "data": {
      "text/plain": [
       "<napari.components._viewer.model.Viewer at 0x146c13898>"
      ]
     },
     "execution_count": 116,
     "metadata": {},
     "output_type": "execute_result"
    }
   ],
   "source": [
    "exp = starfish.Experiment.from_json(\"/Users/ajc/scratch/seqfish-test/experiment.json\")\n",
    "img = exp['fov_000'].get_image('primary')\n",
    "\n",
    "starfish.display(img)"
   ]
  },
  {
   "cell_type": "markdown",
   "metadata": {},
   "source": [
    "## Register the Data\n",
    "\n",
    "The first step in SeqFISH is to do some rough registration. For this data, the rough registration has been done for us by the authors, so it is omitted from this notebook."
   ]
  },
  {
   "cell_type": "markdown",
   "metadata": {},
   "source": [
    "## Remove image background\n",
    "\n",
    "To remove image background, use a White Tophat filter, which measures the background with a rolling disk morphological element and subtracts it from the image. "
   ]
  },
  {
   "cell_type": "code",
   "execution_count": 117,
   "metadata": {},
   "outputs": [],
   "source": [
    "from skimage.morphology import opening, dilation, disk\n",
    "from functools import partial"
   ]
  },
  {
   "cell_type": "markdown",
   "metadata": {},
   "source": [
    "If desired, the background that is being subtracted can be visualized (note that the opening is not being applied here, but rather as part of the white tophat, below). "
   ]
  },
  {
   "cell_type": "code",
   "execution_count": 118,
   "metadata": {},
   "outputs": [
    {
     "data": {
      "text/plain": [
       "<napari.components._viewer.model.Viewer at 0x1f572cb00>"
      ]
     },
     "execution_count": 118,
     "metadata": {},
     "output_type": "execute_result"
    }
   ],
   "source": [
    "opening = partial(opening, selem=disk(3))\n",
    "\n",
    "background = img.apply(\n",
    "    opening,\n",
    "    group_by={Axes.ROUND, Axes.CH, Axes.ZPLANE}, verbose=False, in_place=False\n",
    ")\n",
    "\n",
    "starfish.display(background)"
   ]
  },
  {
   "cell_type": "code",
   "execution_count": 119,
   "metadata": {},
   "outputs": [
    {
     "data": {
      "text/plain": [
       "<napari.components._viewer.model.Viewer at 0x1f56859e8>"
      ]
     },
     "execution_count": 119,
     "metadata": {},
     "output_type": "execute_result"
    }
   ],
   "source": [
    "wth = starfish.image.Filter.WhiteTophat(masking_radius=3)\n",
    "background_corrected = wth.run(img, in_place=False)\n",
    "\n",
    "starfish.display(background_corrected)"
   ]
  },
  {
   "cell_type": "markdown",
   "metadata": {},
   "source": [
    "#TODO Think about running a gaussian or median filter to mitigate noise in channel 1 prior to scaling"
   ]
  },
  {
   "cell_type": "markdown",
   "metadata": {},
   "source": [
    "## Scale images to equalize spot intensities across channels\n",
    "\n",
    "The number of peaks are not uniform across rounds and channels, which prevents histogram matching across channels. Instead, a percentile value is identified and set as the maximum across channels, and the dynamic range is extended to equalize the channel intensities"
   ]
  },
  {
   "cell_type": "code",
   "execution_count": 120,
   "metadata": {},
   "outputs": [],
   "source": [
    "def scale_by_percentile(data, p=99.9):\n",
    "    data = np.asarray(data)\n",
    "    cval = np.percentile(data, p)\n",
    "    data = data / cval\n",
    "    data[data > 1] = 1\n",
    "    return data\n",
    "\n",
    "scaled = background_corrected.apply(\n",
    "    scale_by_percentile,\n",
    "    group_by={Axes.ROUND, Axes.CH}, verbose=False, in_place=False\n",
    ")"
   ]
  },
  {
   "cell_type": "code",
   "execution_count": 15,
   "metadata": {},
   "outputs": [
    {
     "data": {
      "text/plain": [
       "<napari.components._viewer.model.Viewer at 0x153beec18>"
      ]
     },
     "execution_count": 15,
     "metadata": {},
     "output_type": "execute_result"
    }
   ],
   "source": [
    "starfish.display(scaled)"
   ]
  },
  {
   "cell_type": "markdown",
   "metadata": {},
   "source": [
    "## Detect Spots\n",
    "\n",
    "Detect spots with a local search blob detector that identifies spots in all rounds and channels and matches them using a local search method. The local search starts in an anchor round (default round=1) and identifies the nearest spot in all subsequent imaging rounds. \n",
    "\n",
    "Interestingly, this is not the approach taken by the authors. They do a combined spot finding and decoding approach. Here we build their model, including the relevant statistical null models to evaluate their approach. "
   ]
  },
  {
   "cell_type": "markdown",
   "metadata": {},
   "source": [
    "To begin, the authors use a permissive thresholding approach to call _all_ spots, even those likely to be background. The theory is that they can rely upon the decoding to parse which spots are real and which are not. We investigate the statistical implications of this approach. \n",
    "\n",
    "Through conversations at the hackathon with an engineer in the Cai lab, we identified a spot finding threshold that he says matches their results."
   ]
  },
  {
   "cell_type": "code",
   "execution_count": 11,
   "metadata": {},
   "outputs": [
    {
     "data": {
      "text/plain": [
       "<napari.components._viewer.model.Viewer at 0x14e6f7eb8>"
      ]
     },
     "execution_count": 11,
     "metadata": {},
     "output_type": "execute_result"
    }
   ],
   "source": [
    "clip = starfish.image.Filter.Clip(p_min=10)\n",
    "clipped = clip.run(scaled)\n",
    "starfish.display(clipped)"
   ]
  },
  {
   "cell_type": "markdown",
   "metadata": {},
   "source": [
    "The local search blob detector simply runs blob_log on each image, then defines code to identify a particular round as the \"anchor\" and finds spots within a certain physical distance of the spot. It works great in non-crowded data (see the StarMAP notebook). We'll copy the starfish code here as reference and so we can call pieces of it as needed. "
   ]
  },
  {
   "cell_type": "markdown",
   "metadata": {},
   "source": [
    "The Cai lab engineer indicated that the following parameters generate spot calls that match his expectations for how their internal pipelines function. We've previously implemented a `LocalSearchBlobDetector` that does the following: \n",
    "\n",
    "1. detects spots in each volume\n",
    "2. combines the spots detected in all channels across a round\n",
    "3. selects one round as an \"anchor\" and uses the physical coordinates of the spots detected in all channels in that round as seeds for barcode detection\n",
    "4. Finds the closest spot in each non-anchor round (within an outer bound \"search radius\") to each (z, y, x) spots from the anchor round, and builds a code.\n",
    "5. Returns an `IntensityTable` containing the discovered codes. \n",
    "\n",
    "This approach is taken by StarMAP and we apply that approach here. "
   ]
  },
  {
   "cell_type": "code",
   "execution_count": 159,
   "metadata": {},
   "outputs": [],
   "source": [
    "import starfish.util.plot"
   ]
  },
  {
   "cell_type": "code",
   "execution_count": 178,
   "metadata": {},
   "outputs": [
    {
     "data": {
      "text/plain": [
       "<napari.components._viewer.model.Viewer at 0x25af33dd8>"
      ]
     },
     "execution_count": 178,
     "metadata": {},
     "output_type": "execute_result"
    }
   ],
   "source": [
    "starfish.display(scaled)"
   ]
  },
  {
   "cell_type": "code",
   "execution_count": 173,
   "metadata": {},
   "outputs": [
    {
     "data": {
      "image/png": "[encoded data removed]",
      "text/plain": [
       "<Figure size 1200x800 with 60 Axes>"
      ]
     },
     "metadata": {
      "needs_background": "light"
     },
     "output_type": "display_data"
    }
   ],
   "source": [
    "rounds = scaled.xarray.sizes['r']\n",
    "channels = scaled.xarray.sizes['c']\n",
    "\n",
    "f, axes = plt.subplots(nrows=5, ncols=12, dpi=200, sharey=True)\n",
    "for r, c in product(np.arange(rounds), np.arange(channels)): \n",
    "    data = np.ravel(scaled.xarray.sel(r=r, c=c).values)\n",
    "    axes[r, c].hist(data, bins=15, log=True)\n",
    "    axes[r, c].vlines(0.1, 1, 10**6)\n",
    "    axes[r, c].set_axis_off()"
   ]
  },
  {
   "cell_type": "markdown",
   "metadata": {},
   "source": [
    "We're not actually going to use the anchor round capabilities of the Local Search Blob Detector in this notebook, we're just going to use some private methods for matching spots across channels, and we'll implement the for loop across potential anchor rounds to explore how the data look using different \"seed positions\" for the local search. "
   ]
  },
  {
   "cell_type": "code",
   "execution_count": 184,
   "metadata": {},
   "outputs": [],
   "source": [
    "anchors = np.arange(5)\n",
    "verbose=True\n",
    "n_processes=None\n",
    "\n",
    "lsbd = starfish.spots.DetectSpots.LocalSearchBlobDetector(\n",
    "    min_sigma=(0.9, 0.9, 0.9),\n",
    "    max_sigma=(5, 5, 5),\n",
    "    num_sigma=7,\n",
    "    threshold=0.1,\n",
    "    search_radius=2.45,\n",
    ")"
   ]
  },
  {
   "cell_type": "markdown",
   "metadata": {},
   "source": [
    "The below command finds spots in all rounds and channels"
   ]
  },
  {
   "cell_type": "code",
   "execution_count": 185,
   "metadata": {},
   "outputs": [],
   "source": [
    "per_tile_spot_results = lsbd._find_spots(\n",
    "    scaled, \n",
    "    verbose=verbose, \n",
    "    n_processes=n_processes\n",
    ")"
   ]
  },
  {
   "cell_type": "markdown",
   "metadata": {},
   "source": [
    "This command just concatenates all channels within a round, adding a column that records what channel each spot corresponds to"
   ]
  },
  {
   "cell_type": "code",
   "execution_count": 186,
   "metadata": {},
   "outputs": [
    {
     "name": "stdout",
     "output_type": "stream",
     "text": [
      "Completed spot finding\n"
     ]
    }
   ],
   "source": [
    "per_round_spot_results = lsbd._merge_spots_by_round(per_tile_spot_results)\n",
    "print(\"Completed spot finding\")"
   ]
  },
  {
   "cell_type": "markdown",
   "metadata": {},
   "source": [
    "This command loops over the rounds and finds the _single_ nearest neighbor in each other round, by physical distance, excluding all spots outside search_radius. It then creates an IntensityTable from the resulting spots, which may or may not contain a valid code, or even spots in all channels. "
   ]
  },
  {
   "cell_type": "code",
   "execution_count": 188,
   "metadata": {},
   "outputs": [
    {
     "name": "stdout",
     "output_type": "stream",
     "text": [
      "Completed processing for round 0\n",
      "Completed processing for round 1\n",
      "Completed processing for round 2\n",
      "Completed processing for round 3\n",
      "Completed processing for round 4\n"
     ]
    }
   ],
   "source": [
    "# results dicts\n",
    "distances = {}\n",
    "indices = {}\n",
    "intensity_tables = {}\n",
    "\n",
    "for anchor_round in anchors:\n",
    "\n",
    "    dist, ind = starfish.spots.DetectSpots.LocalSearchBlobDetector._match_spots(\n",
    "        per_round_spot_results,\n",
    "        search_radius=lsbd.search_radius, anchor_round=anchor_round\n",
    "    )\n",
    "    distances[anchor_round] = dist\n",
    "    indices[anchor_round] = ind\n",
    "\n",
    "    intensity_tables[anchor_round] = starfish.spots.DetectSpots.LocalSearchBlobDetector._build_intensity_table(\n",
    "        per_round_spot_results, distances[anchor_round], indices[anchor_round],\n",
    "        rounds=scaled.xarray[Axes.ROUND.value].values,\n",
    "        channels=scaled.xarray[Axes.CH.value].values,\n",
    "        search_radius=lsbd.search_radius,\n",
    "        anchor_round=anchor_round\n",
    "    )\n",
    "    print(f\"Completed processing for round {anchor_round}\")"
   ]
  },
  {
   "cell_type": "markdown",
   "metadata": {},
   "source": [
    "This cell decodes the spots in each of the intensity tables"
   ]
  },
  {
   "cell_type": "code",
   "execution_count": 190,
   "metadata": {},
   "outputs": [
    {
     "name": "stdout",
     "output_type": "stream",
     "text": [
      "decoded round 0\n",
      "decoded round 1\n",
      "decoded round 2\n",
      "decoded round 3\n",
      "decoded round 4\n"
     ]
    }
   ],
   "source": [
    "decoded = {}\n",
    "for anchor_round in anchors:\n",
    "    decoded[anchor_round] = exp.codebook.decode_per_round_max(intensity_tables[anchor_round].fillna(0))\n",
    "    print(f\"decoded round {anchor_round}\")"
   ]
  },
  {
   "cell_type": "markdown",
   "metadata": {},
   "source": [
    "What fraction of spots decode in each channel? Remember these numbers. We'll calculate the null model later: assuming random selection of channels, how many spots would decode by chance? "
   ]
  },
  {
   "cell_type": "code",
   "execution_count": 191,
   "metadata": {},
   "outputs": [
    {
     "name": "stdout",
     "output_type": "stream",
     "text": [
      "fraction decoded spots for round 0: 0.0396\n",
      "fraction decoded spots for round 1: 0.0408\n",
      "fraction decoded spots for round 2: 0.0455\n",
      "fraction decoded spots for round 3: 0.0422\n",
      "fraction decoded spots for round 4: 0.0387\n"
     ]
    }
   ],
   "source": [
    "for a in anchors:\n",
    "    print(f\"fraction decoded spots for round {a}: {float(np.sum(decoded[a].target != 'nan') / decoded[a].shape[0]):.4f}\")"
   ]
  },
  {
   "cell_type": "markdown",
   "metadata": {},
   "source": [
    "The data are biased towards decoding spots in channel 1, regardless of the anchor round; this is because that channel is super noisy. (Confirm with Napari)"
   ]
  },
  {
   "cell_type": "code",
   "execution_count": 25,
   "metadata": {},
   "outputs": [
    {
     "data": {
      "image/png": "[encoded data removed]",
      "text/plain": [
       "<Figure size 900x600 with 5 Axes>"
      ]
     },
     "metadata": {
      "needs_background": "light"
     },
     "output_type": "display_data"
    }
   ],
   "source": [
    "f, axes = plt.subplots(dpi=150, ncols=5, sharex=True)\n",
    "for a, ax in enumerate(axes):\n",
    "    num_detected = (decoded[a] != 0).sum('features')\n",
    "    ax.imshow(num_detected)\n",
    "    ax.set_xlabel('round')\n",
    "    ax.set_ylabel('channel')\n",
    "f.tight_layout()"
   ]
  },
  {
   "cell_type": "markdown",
   "metadata": {},
   "source": [
    "Nico mentioned that our original notebook was not detecting enough spots. Verify that we've now fixed the problem by building an IntensityTable with all the spots. "
   ]
  },
  {
   "cell_type": "code",
   "execution_count": 199,
   "metadata": {},
   "outputs": [],
   "source": [
    "from typing import Dict, Sequence\n",
    "from starfish import IntensityTable\n",
    "from starfish.types import Features"
   ]
  },
  {
   "cell_type": "code",
   "execution_count": 200,
   "metadata": {},
   "outputs": [],
   "source": [
    "# this function is only needed because napari is hard to use outside starfish\n",
    "\n",
    "def build_intensity_table_all_spots(\n",
    "    round_dataframes: Dict[int, pd.DataFrame],\n",
    "    channels: Sequence[int],\n",
    "    rounds: Sequence[int],\n",
    ") -> IntensityTable:\n",
    "    \"\"\"Construct an intensity table from the results of a local search over detected spots\n",
    "\n",
    "    Parameters\n",
    "    ----------\n",
    "    round_dataframes : Dict[int, pd.DataFrame]\n",
    "        Output from _merge_spots_by_round, contains mapping of image volumes from each round to\n",
    "        all the spots detected in them.\n",
    "    dist, ind : pd.DataFrame\n",
    "        Output from _match_spots, contains distances and indices to the nearest spot for each\n",
    "        spot in anchor_round.\n",
    "    channels, rounds : Sequence[int]\n",
    "        Channels and rounds present in the ImageStack from which spots were detected.\n",
    "    search_radius : int\n",
    "        The maximum (euclidean) distance in pixels for a spot to be considered matching in\n",
    "        a round subsequent to the anchor round.\n",
    "    anchor_round : int\n",
    "        The imaging round to seed the local search from.\n",
    "    \"\"\"\n",
    "    num_spots = sum(len(round_dataframes[k]) for k in round_dataframes.keys())\n",
    "\n",
    "    # create empty IntensityTable filled with np.nan\n",
    "    data = np.full((num_spots, len(channels), len(rounds)), fill_value=np.nan)\n",
    "    dims = (Features.AXIS, Axes.CH.value, Axes.ROUND.value)\n",
    "    \n",
    "    # build coords\n",
    "    z, y, x, r = [], [], [], []\n",
    "    for v in round_dataframes.values():\n",
    "        z.extend(v[Axes.ZPLANE])\n",
    "        y.extend(v[Axes.Y])\n",
    "        x.extend(v[Axes.X])\n",
    "        r.extend(v[Features.SPOT_RADIUS])\n",
    "        \n",
    "    coords = {\n",
    "        Features.SPOT_RADIUS: (Features.AXIS, r),\n",
    "        Axes.ZPLANE.value: (Features.AXIS, z),\n",
    "        Axes.Y.value: (Features.AXIS, y),\n",
    "        Axes.X.value: (Features.AXIS, x),\n",
    "        Axes.ROUND.value: (Axes.ROUND.value, rounds),\n",
    "        Axes.CH.value: (Axes.CH.value, channels)\n",
    "    }\n",
    "    intensity_table = IntensityTable(data=data, dims=dims, coords=coords)\n",
    "\n",
    "    # fill IntensityTable\n",
    "    curr_n = 0\n",
    "    for r in anchors:\n",
    "\n",
    "        # get intensity data and indices\n",
    "        df = round_dataframes[r]\n",
    "        n = len(df)\n",
    "        intensity_data = df.loc[:, 'intensity']\n",
    "        channel_index = df.loc[:, Axes.CH]\n",
    "        round_index = np.full(len(df), fill_value=r, dtype=int)\n",
    "        feature_index = np.arange(curr_n, curr_n + n, dtype=int)\n",
    "\n",
    "        # need numpy indexing to set values in vectorized manner\n",
    "        intensity_table.values[feature_index, channel_index, round_index] = intensity_data\n",
    "        \n",
    "        curr_n += n\n",
    "\n",
    "    return intensity_table"
   ]
  },
  {
   "cell_type": "code",
   "execution_count": 201,
   "metadata": {},
   "outputs": [],
   "source": [
    "all_spots = build_intensity_table_all_spots(per_round_spot_results, rounds=np.arange(5), channels=np.arange(12))"
   ]
  },
  {
   "cell_type": "code",
   "execution_count": 202,
   "metadata": {},
   "outputs": [
    {
     "data": {
      "text/plain": [
       "<napari.components._viewer.model.Viewer at 0x25ad0fe10>"
      ]
     },
     "execution_count": 202,
     "metadata": {},
     "output_type": "execute_result"
    }
   ],
   "source": [
    "starfish.display(scaled, all_spots, mask_intensities=0.001, z_multiplier=3, radius_multiplier=2)"
   ]
  },
  {
   "cell_type": "markdown",
   "metadata": {},
   "source": [
    "Looks like we're finding all the spots. Nico mentioned that they do something different, which probably explains why they decode so many spots while we cannot. "
   ]
  },
  {
   "cell_type": "markdown",
   "metadata": {},
   "source": [
    "## The SeqFISH spot finding approach\n",
    "\n",
    "> The potential intron signals were then found by finding local maxima in the image above a predetermined pixel threshold in the registered images. Once all potential points in all channels of all hybridizations were obtained, dots were matched to potential barcode partners in all other channels of all other hybridizations using a 2.45 pixel search radius to find symmetric nearest neighbors in 3D. Point combinations that constructed only a single barcode were immediately matched to the on-target barcode set. For points that matched to construct multiple barcodes, first the point sets were filtered by calculating the residual spatial distance of each potential barcode point set and only the point sets giving the minimum residuals were used to match to a barcode. If multiple barcodes were still possible, the point was matched to its closest on-target barcode with a hamming distance of 1. If multiple on target barcodes were still possible, then the point was dropped from the analysis as an ambiguous barcode. This procedure was repeated using each hybridization as a seed for barcode finding and only barcodes that were called similarly in at least 4 out of 5 rounds were used in the analysis. The number of each barcode was then counted in each of the assigned cell volumes and transcript numbers were as- signed based on the number of on-target barcodes present in the cell volume. All image processing and image analysis code can be obtained upon request."
   ]
  },
  {
   "cell_type": "markdown",
   "metadata": {},
   "source": [
    "Nico explained that they carry out the following approach, which is similar but has important differences to the StarMAP approach. Note that this does not match the text. \n",
    "\n",
    "1. Detect spots in each volume\n",
    "2. Combine the spots detected in all channels across a round\n",
    "3. select one round as an \"anchor\" and use the physical coordinates of the spots detected in all channels in that round as seeds for barcode detection\n",
    "4. Find the closest spot in each non-anchor round **which matches a code in the codebook** (within an outer bound \"search radius\") to each (z, y, x) spots from the anchor round, and build a code.\n",
    "6. **Repeat, using all rounds as anchor, and filter points that don't refer to the same code in 4/5 rounds.**\n",
    "7. Return an `IntensityTable` containing the discovered codes. "
   ]
  },
  {
   "cell_type": "markdown",
   "metadata": {},
   "source": [
    "The text says something different and more reasonable, however it doesn't explain the lack of results obtained by the SpotFinder used for StarMAP. \n",
    "\n",
    "1. Detect spots in each volume\n",
    "2. Combine the spots detected in all channels across a round\n",
    "3. select one round as an \"anchor\" and use the physical coordinates of the spots detected in all channels in that round as seeds for barcode detection\n",
    "4. Find the closest spot in each non-anchor round (within an outer bound \"search radius\") to each (z, y, x) spots from the anchor round, and build a code.\n",
    "5. **If multiple point sets have the same spatial distance, use the codebook to resolve which barcode is correct**\n",
    "6. **If multiple barcodes can still be matched to the codebook, drop the barcode**\n",
    "7. **Repeat, using all rounds as anchor, and filter points that don't refer to the same code in 4/5 rounds.**\n",
    "5. Return an `IntensityTable` containing the discovered codes. "
   ]
  },
  {
   "cell_type": "markdown",
   "metadata": {},
   "source": [
    "## What are the statistical properties of these data? \n",
    "\n",
    "Given a 2.45 pixel search radius and these spot densities, how does this matching work? "
   ]
  },
  {
   "cell_type": "code",
   "execution_count": 30,
   "metadata": {},
   "outputs": [],
   "source": [
    "def match_spots_n_neighbors(\n",
    "    round_dataframes: Dict[int, pd.DataFrame], search_radius: int, anchor_round: int, \n",
    "    n_neighbors: int,\n",
    ") -> Tuple[pd.DataFrame, pd.DataFrame]:\n",
    "    \"\"\" For each spot in anchor round, find the closest spot within search_radius in all rounds.\n",
    "\n",
    "    Parameters\n",
    "    ----------\n",
    "    round_dataframes : Dict[int, pd.DataFrame]\n",
    "        Output from _merge_spots_by_round, contains mapping of image volumes from each round to\n",
    "        all the spots detected in them.\n",
    "    search_radius : int\n",
    "        The maximum (euclidean) distance in pixels for a spot to be considered matching in\n",
    "        a round subsequent to the anchor round.\n",
    "    anchor_round : int\n",
    "        The imaging round to seed the local search from.\n",
    "\n",
    "    Returns\n",
    "    -------\n",
    "    pd.DataFrame\n",
    "        Spots x rounds dataframe containing the distances to the nearest spot. np.nan if\n",
    "        no spot is detected within search radius\n",
    "    pd.DataFrame\n",
    "        Spots x rounds dataframe containing the indices of the nearest spot to the\n",
    "        corresponding round_dataframe. np.nan if no spot is detected within search radius.\n",
    "\n",
    "    \"\"\"\n",
    "    reference_df = round_dataframes[anchor_round]\n",
    "    reference_coordinates = reference_df[[Axes.ZPLANE, Axes.Y, Axes.X]]\n",
    "\n",
    "    dist = np.zeros((len(round_dataframes), reference_df.shape[0], n_neighbors), dtype=float)\n",
    "    ind  = np.zeros((len(round_dataframes), reference_df.shape[0], n_neighbors), dtype=np.int32)\n",
    "\n",
    "    # fill data for anchor round; every spot is a perfect match to itself.\n",
    "    # this adds a single neighbor with distance zero corresponding to the anchor round spot_id\n",
    "    ind[anchor_round, :, 0] = np.arange(reference_df.shape[0], dtype=np.int32)\n",
    "\n",
    "    # get spots matching across rounds\n",
    "    for r in sorted(set(round_dataframes.keys()) - {anchor_round, }):\n",
    "        query_df = round_dataframes[r]\n",
    "        query_coordinates = query_df[[Axes.ZPLANE, Axes.Y, Axes.X]]\n",
    "\n",
    "        # Build the classifier; chose NN over radius neighbors because data structures are\n",
    "        # amenable to vectorization, which improves execution time.\n",
    "        # TODO ambrosejcarr use n_neighbors > 1 to break ties, enable codebook-based finding\n",
    "        #      use additional axes in dist, ind to retain vectorization.\n",
    "        nn = NearestNeighbors(n_neighbors=n_neighbors)\n",
    "        nn.fit(query_coordinates)\n",
    "\n",
    "        distances, indices = nn.kneighbors(reference_coordinates)\n",
    "        dist[r] = distances\n",
    "        ind[r] = indices\n",
    "\n",
    "    return dist, ind"
   ]
  },
  {
   "cell_type": "markdown",
   "metadata": {},
   "source": [
    "I tried the NN algorithm with n_neighbors = 25 and learned that the max number of neighbors in this search radius is 15. I used this to set a number that reduces memory requirements. **[Aside: I could use radius neighbors, but that produces a non-vectorized output, so I'm sticking with NN]**"
   ]
  },
  {
   "cell_type": "code",
   "execution_count": 31,
   "metadata": {},
   "outputs": [],
   "source": [
    "dist, ind = match_spots_n_neighbors(per_round_spot_results, search_radius=2.45, anchor_round=0, n_neighbors=16)"
   ]
  },
  {
   "cell_type": "markdown",
   "metadata": {},
   "source": [
    "Count the number of spots that are within the search range for each round on average"
   ]
  },
  {
   "cell_type": "code",
   "execution_count": 35,
   "metadata": {},
   "outputs": [
    {
     "name": "stdout",
     "output_type": "stream",
     "text": [
      "number of spots in range on average: 2.83\n"
     ]
    }
   ],
   "source": [
    "num_in_range = (dist[1:] < 2.45).sum(axis=-1)\n",
    "print(f\"number of spots in range on average: {np.mean(num_in_range):.2f}\")"
   ]
  },
  {
   "cell_type": "markdown",
   "metadata": {},
   "source": [
    "Calculate the distribution of the number of possible codes that can be built in this anchor channel, in these data: \n",
    "\n",
    "The number of possible codes for each spot is the product of the number of spots within the search radius is _other_ rounds. Note that this slightly over-estimates the number of possible barcodes because spots can derive from the same channel, in which case they would contribute to the same codes. "
   ]
  },
  {
   "cell_type": "code",
   "execution_count": 36,
   "metadata": {},
   "outputs": [],
   "source": [
    "num_possible_codes = np.product(num_in_range, axis=0)"
   ]
  },
  {
   "cell_type": "code",
   "execution_count": 37,
   "metadata": {},
   "outputs": [
    {
     "data": {
      "image/png": "[encoded data removed]",
      "text/plain": [
       "<Figure size 600x400 with 1 Axes>"
      ]
     },
     "metadata": {
      "needs_background": "light"
     },
     "output_type": "display_data"
    }
   ],
   "source": [
    "f, ax = plt.subplots(dpi=100)\n",
    "plt.hist(num_possible_codes, bins=50, log=True);"
   ]
  },
  {
   "cell_type": "markdown",
   "metadata": {},
   "source": [
    "This is a very large number of possible codes. The codebook is also big, but we use a large fraction of it. \n",
    "\n",
    "## How many codes are available for decoding? Given a codebook, how many would be expected to decode?"
   ]
  },
  {
   "cell_type": "markdown",
   "metadata": {},
   "source": [
    "The seqfish codebook is a one-hot codebook with 12 channels $c$ and 5 rounds $r$. This means that each round can take on one of 12 values, and the formula to calculate the code space is $c^{r}$\n",
    "\n",
    "Alternatively, if they view each individual (r, c) combination as a binary event, then the code space is $2^{r*c}$. Looking through their codebook, it appears that they are treating the hamming code in this way."
   ]
  },
  {
   "cell_type": "code",
   "execution_count": 38,
   "metadata": {},
   "outputs": [],
   "source": [
    "n_codes, n_channels, n_rounds = exp.codebook.shape"
   ]
  },
  {
   "cell_type": "markdown",
   "metadata": {},
   "source": [
    "What fraction of spots should randomly decode? "
   ]
  },
  {
   "cell_type": "markdown",
   "metadata": {},
   "source": [
    "## $c^r$ space"
   ]
  },
  {
   "cell_type": "markdown",
   "metadata": {},
   "source": [
    "This is how the authors are treating code space, if they only consider codes that decode. "
   ]
  },
  {
   "cell_type": "code",
   "execution_count": 39,
   "metadata": {},
   "outputs": [
    {
     "name": "stdout",
     "output_type": "stream",
     "text": [
      "fraction of possible codes that are valid: 0.042\n"
     ]
    }
   ],
   "source": [
    "possible_codes = n_channels ** n_rounds\n",
    "valid_code_space = n_codes / possible_codes\n",
    "print(f\"fraction of possible codes that are valid: {valid_code_space:.3f}\")"
   ]
  },
  {
   "cell_type": "markdown",
   "metadata": {},
   "source": [
    "Note that the authors allow a 1-hamming distance error. Correcting for allowing 1 error in each code position changes the formula to: "
   ]
  },
  {
   "cell_type": "code",
   "execution_count": 40,
   "metadata": {},
   "outputs": [
    {
     "name": "stdout",
     "output_type": "stream",
     "text": [
      "fraction of possible codes that are valid in hamming code: 2.303\n"
     ]
    }
   ],
   "source": [
    "with_hamming = n_codes * (n_rounds * (n_channels - 1))\n",
    "\n",
    "hamming_code_space = with_hamming / possible_codes\n",
    "print(f\"fraction of possible codes that are valid in hamming code: {hamming_code_space:.3f}\")"
   ]
  },
  {
   "cell_type": "markdown",
   "metadata": {},
   "source": [
    "This is more codes than are allowable in the code space, suggesting there are a substantial number of collisions, and thus they cannot use a hamming code in this form"
   ]
  },
  {
   "cell_type": "markdown",
   "metadata": {},
   "source": [
    "## $2^{r*c}$ space"
   ]
  },
  {
   "cell_type": "markdown",
   "metadata": {},
   "source": [
    "I think this is how the authors view their hamming space, which means that only some types of errors are allowable (an extra base could be \"on\" or a key base could be \"off\" but no base -> base transitions are allowed, since those are two binary actions)"
   ]
  },
  {
   "cell_type": "code",
   "execution_count": 441,
   "metadata": {},
   "outputs": [],
   "source": [
    "possible_codes = 2 ** (n_rounds * n_channels)"
   ]
  },
  {
   "cell_type": "code",
   "execution_count": 442,
   "metadata": {},
   "outputs": [
    {
     "data": {
      "text/plain": [
       "9.038776671577153e-15"
      ]
     },
     "execution_count": 442,
     "metadata": {},
     "output_type": "execute_result"
    }
   ],
   "source": [
    "n_codes / possible_codes"
   ]
  },
  {
   "cell_type": "markdown",
   "metadata": {},
   "source": [
    "Determine if the code is built in this way by checking the minimum hamming distances"
   ]
  },
  {
   "cell_type": "code",
   "execution_count": 419,
   "metadata": {},
   "outputs": [],
   "source": [
    "from scipy.spatial.distance import pdist, squareform\n",
    "\n",
    "codes = exp.codebook.stack(traces=('c', 'r')).values\n",
    "distance_matrix = pdist(codes, metric='hamming')\n",
    "\n",
    "distance_matrix = squareform(distance_matrix)\n",
    "np.fill_diagonal(distance_matrix, 1)"
   ]
  },
  {
   "cell_type": "markdown",
   "metadata": {},
   "source": [
    "_All_ codes have the following minimum hamming distance, which is too coincidental; Reasoning inductively, this is the way their code was built. "
   ]
  },
  {
   "cell_type": "code",
   "execution_count": 443,
   "metadata": {},
   "outputs": [
    {
     "data": {
      "text/plain": [
       "array([4.])"
      ]
     },
     "execution_count": 443,
     "metadata": {},
     "output_type": "execute_result"
    }
   ],
   "source": [
    "np.unique(np.min(distance_matrix, axis=1), return_counts=True)[0] * (n_rounds * n_channels)"
   ]
  },
  {
   "cell_type": "markdown",
   "metadata": {},
   "source": [
    "## What are the statistical properties of matching to the closest code **that decodes**?"
   ]
  },
  {
   "cell_type": "markdown",
   "metadata": {},
   "source": [
    "Recall we built up the distances and indices for each spot, based on each round.\n",
    "\n",
    "The next step is to reduce the lists of codes to those the closest codes that successfully decode in each round. \n",
    "\n",
    "The logical way to approach this would be to order codes by their distances and then decode them until a code is successfully decoded. The multiplicity of the code sizes makes a brute force solution potentially very slow. \n",
    "\n",
    "need functions to: \n",
    "\n",
    "1. Find all the possible codes\n",
    "2. Find the distance of a code\n",
    "3. check if each code decodes\n",
    "\n",
    "Extra points if these approaches are vectorized, as the sequential look-up will potentially be very slow"
   ]
  },
  {
   "cell_type": "code",
   "execution_count": 67,
   "metadata": {},
   "outputs": [],
   "source": [
    "# This is some boilerplate to add unique spot ids, and can be ignored\n",
    "\n",
    "n_curr = 0\n",
    "search_radius = 2.45\n",
    "\n",
    "for table in per_round_spot_results.values():\n",
    "    \n",
    "    # make the index\n",
    "    n = table.shape[0]\n",
    "    ids = np.arange(n_curr, n_curr + n)\n",
    "    \n",
    "    # replace the index\n",
    "    table.index = np.arange(n)\n",
    "    table[\"spot_id\"] = ids\n",
    "    \n",
    "    # increment the counter so each table has unique indices\n",
    "    n_curr += n"
   ]
  },
  {
   "cell_type": "code",
   "execution_count": 45,
   "metadata": {},
   "outputs": [],
   "source": [
    "dist, ind = match_spots_n_neighbors(per_round_spot_results, search_radius=2.45, anchor_round=1, n_neighbors=16)\n",
    "\n",
    "exclude = dist > search_radius"
   ]
  },
  {
   "cell_type": "markdown",
   "metadata": {},
   "source": [
    "We don't want to know the spot indices, we really want to know, for each round, what **channel** does the spot correspond to? To get at this, build a hash map to match spot ids to channels and map `ind`, the `spot_ids`, to their channels. "
   ]
  },
  {
   "cell_type": "code",
   "execution_count": 46,
   "metadata": {},
   "outputs": [],
   "source": [
    "# Map each spot to the channel it was detected in, forming a\n",
    "# (round, spot, channel) array, where the channels correspond \n",
    "# to the nearest spots, and may contain duplicates\n",
    "\n",
    "channel_data = np.empty_like(ind)\n",
    "for round_ in np.arange(ind.shape[0]):\n",
    "    linearized_indices = ind[round_].reshape(-1)\n",
    "    per_round_channel_data = per_round_spot_results[round_][\"c\"]\n",
    "    channel_ids = per_round_channel_data[linearized_indices].values\n",
    "    channel_data[round_] = channel_ids.reshape(ind[round_].shape)"
   ]
  },
  {
   "cell_type": "markdown",
   "metadata": {},
   "source": [
    "This is the set of channels that are within the search radius for spot 10000. The rows are the rounds, and the channels are sequentially more distant neighbors. \n",
    "\n",
    "Spots outside the search radius are masked by replacing them with -1"
   ]
  },
  {
   "cell_type": "code",
   "execution_count": 72,
   "metadata": {},
   "outputs": [
    {
     "data": {
      "text/plain": [
       "array([[ 1,  4,  1, -1, -1, -1, -1, -1, -1, -1, -1, -1, -1, -1, -1, -1],\n",
       "       [ 7,  0,  0,  0,  0,  0,  0,  0,  0,  0,  0,  0,  0,  0,  0,  0],\n",
       "       [ 7,  0, 10,  8,  1, -1, -1, -1, -1, -1, -1, -1, -1, -1, -1, -1],\n",
       "       [ 9,  0,  4,  6,  5, -1, -1, -1, -1, -1, -1, -1, -1, -1, -1, -1],\n",
       "       [ 2,  1,  7, 11, 10, 10,  8, -1, -1, -1, -1, -1, -1, -1, -1, -1]],\n",
       "      dtype=int32)"
      ]
     },
     "execution_count": 72,
     "metadata": {},
     "output_type": "execute_result"
    }
   ],
   "source": [
    "spot = 15000\n",
    "masked = np.where(dist[:, spot, :] < search_radius, channel_data[:, spot, :], -1)\n",
    "masked"
   ]
  },
  {
   "cell_type": "markdown",
   "metadata": {},
   "source": [
    "Collapse to unique channels detected in each round"
   ]
  },
  {
   "cell_type": "code",
   "execution_count": 73,
   "metadata": {},
   "outputs": [
    {
     "data": {
      "text/plain": [
       "[{1, 4}, {0, 7}, {0, 1, 7, 8, 10}, {0, 4, 5, 6, 9}, {1, 2, 7, 8, 10, 11}]"
      ]
     },
     "execution_count": 73,
     "metadata": {},
     "output_type": "execute_result"
    }
   ],
   "source": [
    "[set(row) - {-1, } for row in masked]"
   ]
  },
  {
   "cell_type": "markdown",
   "metadata": {},
   "source": [
    "Create a hash set for all the valid codes in the seqfish codebook for quick look ups later"
   ]
  },
  {
   "cell_type": "code",
   "execution_count": 74,
   "metadata": {},
   "outputs": [],
   "source": [
    "valid_codes = set()\n",
    "for code in exp.codebook.transpose(\"target\", \"r\", \"c\"): \n",
    "    round_indices, channel_indices = np.where(code)\n",
    "    valid_codes.add(tuple(channel_indices))"
   ]
  },
  {
   "cell_type": "markdown",
   "metadata": {},
   "source": [
    "Write a function to find the codes that are: \n",
    "1. within 2.45 pixels\n",
    "2. decode"
   ]
  },
  {
   "cell_type": "code",
   "execution_count": 75,
   "metadata": {},
   "outputs": [],
   "source": [
    "from itertools import product\n",
    "\n",
    "def get_codes(channels, dist_, search_radius):\n",
    "    \n",
    "    # returns the value for channels if the channel's distance is less than\n",
    "    # search radius, otherwise returns -1\n",
    "    masked = np.where(dist_ < search_radius, channels, -1)\n",
    "    \n",
    "    # per round, identifies the unique set of channels that are valid\n",
    "    # (excludes -1)\n",
    "    valid_channels_per_round = [set(row) - {-1, } for row in masked]\n",
    "    \n",
    "    # generator for all valid codes\n",
    "    all_codes = product(*valid_channels_per_round)\n",
    "    \n",
    "    # list of codes that decode\n",
    "    decodes = [code for code in all_codes if code in valid_codes]\n",
    "    \n",
    "    # iterate through the codes\n",
    "    \n",
    "    return decodes\n",
    "    \n",
    "    \n",
    "def brute_force_code_check():\n",
    "    pass"
   ]
  },
  {
   "cell_type": "markdown",
   "metadata": {},
   "source": [
    "Worth leaving the below print out, since it shows how many possible codes there are that decode... Let's figure out what their distances are, next"
   ]
  },
  {
   "cell_type": "code",
   "execution_count": 76,
   "metadata": {},
   "outputs": [],
   "source": [
    "test_channels = channel_data[:, 0, :]\n",
    "test_distances = dist[:, 0, :]\n",
    "decoded_test_codes = get_codes(test_channels, test_distances, search_radius)"
   ]
  },
  {
   "cell_type": "markdown",
   "metadata": {},
   "source": [
    "Here there are quite a few possible codes that decode. "
   ]
  },
  {
   "cell_type": "code",
   "execution_count": 77,
   "metadata": {},
   "outputs": [
    {
     "data": {
      "text/plain": [
       "[(1, 0, 1, 8, 1),\n",
       " (1, 0, 1, 9, 2),\n",
       " (1, 0, 2, 1, 7),\n",
       " (1, 0, 2, 7, 1),\n",
       " (1, 0, 2, 8, 2),\n",
       " (1, 0, 3, 7, 2),\n",
       " (1, 0, 4, 0, 8),\n",
       " (1, 0, 4, 5, 1),\n",
       " (1, 0, 4, 9, 5),\n",
       " (1, 0, 5, 4, 1),\n",
       " (1, 0, 5, 5, 2),\n",
       " (1, 0, 5, 8, 5),\n",
       " (1, 0, 5, 10, 7),\n",
       " (1, 0, 7, 2, 1),\n",
       " (1, 0, 8, 5, 5),\n",
       " (1, 0, 8, 7, 7),\n",
       " (1, 0, 9, 4, 5),\n",
       " (1, 0, 9, 7, 8),\n",
       " (1, 0, 11, 5, 8),\n",
       " (2, 0, 0, 0, 5),\n",
       " (2, 0, 0, 2, 7),\n",
       " (2, 0, 0, 8, 1),\n",
       " (2, 0, 0, 9, 2),\n",
       " (2, 0, 1, 8, 2),\n",
       " (2, 0, 2, 7, 2),\n",
       " (2, 0, 2, 10, 5),\n",
       " (2, 0, 3, 0, 8),\n",
       " (2, 0, 3, 9, 5),\n",
       " (2, 0, 4, 8, 5),\n",
       " (2, 0, 5, 10, 8),\n",
       " (2, 0, 7, 1, 1),\n",
       " (2, 0, 7, 5, 5),\n",
       " (2, 0, 7, 8, 8),\n",
       " (2, 0, 8, 7, 8),\n",
       " (2, 0, 10, 5, 8),\n",
       " (2, 0, 11, 9, 1),\n",
       " (2, 0, 11, 10, 2),\n",
       " (4, 0, 0, 0, 7),\n",
       " (4, 0, 0, 1, 8),\n",
       " (4, 0, 0, 7, 2),\n",
       " (4, 0, 1, 5, 1),\n",
       " (4, 0, 1, 9, 5),\n",
       " (4, 0, 2, 4, 1),\n",
       " (4, 0, 2, 5, 2),\n",
       " (4, 0, 2, 10, 7),\n",
       " (4, 0, 3, 4, 2),\n",
       " (4, 0, 3, 9, 7),\n",
       " (4, 0, 4, 2, 1),\n",
       " (4, 0, 4, 8, 7),\n",
       " (4, 0, 5, 2, 2),\n",
       " (4, 0, 5, 8, 8),\n",
       " (4, 0, 7, 5, 7),\n",
       " (4, 0, 8, 2, 5),\n",
       " (4, 0, 8, 4, 7),\n",
       " (4, 0, 9, 4, 8),\n",
       " (4, 0, 10, 0, 5),\n",
       " (4, 0, 10, 8, 1),\n",
       " (4, 0, 11, 7, 1),\n",
       " (5, 0, 0, 0, 8),\n",
       " (5, 0, 0, 5, 1),\n",
       " (5, 0, 1, 4, 1),\n",
       " (5, 0, 1, 5, 2),\n",
       " (5, 0, 1, 8, 5),\n",
       " (5, 0, 1, 10, 7),\n",
       " (5, 0, 2, 4, 2),\n",
       " (5, 0, 2, 10, 8),\n",
       " (5, 0, 3, 8, 7),\n",
       " (5, 0, 4, 2, 2),\n",
       " (5, 0, 4, 7, 7),\n",
       " (5, 0, 4, 8, 8),\n",
       " (5, 0, 5, 0, 1),\n",
       " (5, 0, 5, 1, 2),\n",
       " (5, 0, 7, 2, 5),\n",
       " (5, 0, 7, 4, 7),\n",
       " (5, 0, 7, 5, 8),\n",
       " (5, 0, 7, 10, 1),\n",
       " (5, 0, 9, 8, 1),\n",
       " (5, 0, 10, 7, 1),\n",
       " (5, 0, 11, 1, 8),\n",
       " (5, 0, 11, 10, 5)]"
      ]
     },
     "execution_count": 77,
     "metadata": {},
     "output_type": "execute_result"
    }
   ],
   "source": [
    "decoded_test_codes"
   ]
  },
  {
   "cell_type": "markdown",
   "metadata": {},
   "source": [
    "I should pre-process these codes to get just the closest distance for each channel in each round... Here, the rounds can duplicate one another. For the time being I can write a really simple piece of code to:\n",
    "1. find the minimum distance for each channel\n",
    "2. find the distance for each code\n",
    "3. identify the code that best matches\n",
    "4. print out some statistics about the matching code"
   ]
  },
  {
   "cell_type": "code",
   "execution_count": 78,
   "metadata": {},
   "outputs": [],
   "source": [
    "def get_closest_code(channels, dist_, search_radius):\n",
    "    \n",
    "    # returns the value for channels if the channel's distance is less than\n",
    "    # search radius, otherwise returns -1\n",
    "    masked = np.where(dist_ < search_radius, channels, -1)\n",
    "    \n",
    "    # per round, identifies the unique set of channels that are valid\n",
    "    # (excludes -1)\n",
    "    valid_channels_per_round = [set(row) - {-1, } for row in masked]\n",
    "    \n",
    "    # generator for all valid codes\n",
    "    all_codes = list(product(*valid_channels_per_round))\n",
    "    \n",
    "    # list of codes that decode\n",
    "    decodes = [code for code in all_codes if code in valid_codes]\n",
    "    \n",
    "    # find the closest distance for each (round, channel) pair\n",
    "    distance_table: Mapping[Tuple[int, int], float] = {}\n",
    "    for round_, channels in enumerate(valid_channels_per_round):\n",
    "        for c in channels:\n",
    "            channel_indices = np.where(masked[round_] == c)\n",
    "            distance_table[round_, c] = np.min(dist_[round_, channel_indices])\n",
    "    \n",
    "    # calculate the distances for each decoding code, returning the closest code and the total number of codes checked\n",
    "    rmse = lambda x: np.sqrt(sum(np.asarray(x) ** 2))\n",
    "    distances = [rmse(code) for code in decodes]\n",
    "        \n",
    "    # find the smallest distance\n",
    "    index = np.argmin(distances)\n",
    "    closest_decoding_trace = decodes[index]\n",
    "    distance = distances[index]\n",
    "    \n",
    "    # calculate distances for all codes\n",
    "    all_distances = np.asarray([rmse(code) for code in all_codes])\n",
    "    closest_trace = np.min(all_distances)\n",
    "    fraction_closer_traces = np.sum(all_distances < distance) / all_distances.shape[0]\n",
    "    \n",
    "    # how many total traces are there? \n",
    "    total_traces = len(all_codes)\n",
    "    \n",
    "    # return: \n",
    "    # code\n",
    "    # number of codes that decode\n",
    "    # distance of the winning code\n",
    "    # closest trace (including non-decoding codes)\n",
    "    # fraction of traces that had lower distances\n",
    "    # the total number of traces\n",
    "    return closest_decoding_trace, len(decodes), distance, closest_trace, fraction_closer_traces, total_traces"
   ]
  },
  {
   "cell_type": "markdown",
   "metadata": {},
   "source": [
    "Look at the top 10 traces"
   ]
  },
  {
   "cell_type": "code",
   "execution_count": 405,
   "metadata": {},
   "outputs": [
    {
     "name": "stdout",
     "output_type": "stream",
     "text": [
      "code 0 data:\n",
      "code: (0, 0, 1, 1, 5)\tpossible (decoded) codes: 202\n",
      "distance: 5.20\tclosest trace (may not decode): 1.00\n",
      "percentage of traces that were closer: 0.03\ttotal traces: 4950\n",
      "code 1 data:\n",
      "code: (8, 0, 2, 0, 1)\tpossible (decoded) codes: 4\n",
      "distance: 8.31\tclosest trace (may not decode): 1.00\n",
      "percentage of traces that were closer: 0.54\ttotal traces: 72\n",
      "code 2 data:\n",
      "code: (2, 0, 5, 3, 1)\tpossible (decoded) codes: 62\n",
      "distance: 6.24\tclosest trace (may not decode): 3.46\n",
      "percentage of traces that were closer: 0.01\ttotal traces: 1344\n",
      "code 3 data:\n",
      "no codes decoded\n",
      "code 4 data:\n",
      "code: (2, 0, 3, 2, 10)\tpossible (decoded) codes: 10\n",
      "distance: 10.82\tclosest trace (may not decode): 7.00\n",
      "percentage of traces that were closer: 0.13\ttotal traces: 162\n",
      "code 5 data:\n",
      "code: (4, 0, 2, 5, 2)\tpossible (decoded) codes: 21\n",
      "distance: 7.00\tclosest trace (may not decode): 2.83\n",
      "percentage of traces that were closer: 0.14\ttotal traces: 480\n",
      "code 6 data:\n",
      "code: (3, 0, 3, 4, 1)\tpossible (decoded) codes: 73\n",
      "distance: 5.92\tclosest trace (may not decode): 3.74\n",
      "percentage of traces that were closer: 0.02\ttotal traces: 1400\n",
      "code 7 data:\n",
      "code: (0, 0, 1, 2, 6)\tpossible (decoded) codes: 40\n",
      "distance: 6.40\tclosest trace (may not decode): 1.00\n",
      "percentage of traces that were closer: 0.07\ttotal traces: 1080\n",
      "code 8 data:\n",
      "code: (6, 0, 1, 6, 4)\tpossible (decoded) codes: 13\n",
      "distance: 9.43\tclosest trace (may not decode): 7.35\n",
      "percentage of traces that were closer: 0.09\ttotal traces: 270\n",
      "code 9 data:\n",
      "code: (0, 0, 1, 1, 5)\tpossible (decoded) codes: 20\n",
      "distance: 5.20\tclosest trace (may not decode): 1.00\n",
      "percentage of traces that were closer: 0.11\ttotal traces: 525\n"
     ]
    }
   ],
   "source": [
    "for i in range(10):\n",
    "    test_channels = channel_data[:, i, :]\n",
    "    test_distances = dist[:, i, :]\n",
    "    print(f'code {i} data:')\n",
    "    try:\n",
    "        res = get_closest_code(test_channels, test_distances, search_radius)\n",
    "        print(f\"code: {res[0]}\\tpossible (decoded) codes: {res[1]}\\ndistance: {res[2]:.2f}\\tclosest trace (may not decode): {res[3]:.2f}\\npercentage of traces that were closer: {res[4]:.2f}\\ttotal traces: {res[5]}\")\n",
    "    except ValueError:\n",
    "        print('no codes decoded')"
   ]
  },
  {
   "cell_type": "markdown",
   "metadata": {},
   "source": [
    "Recall we expect 4% of codes to decode by chance. How many do we see decoding here in the first trace? "
   ]
  },
  {
   "cell_type": "code",
   "execution_count": 82,
   "metadata": {},
   "outputs": [
    {
     "data": {
      "text/plain": [
       "0.0404"
      ]
     },
     "execution_count": 82,
     "metadata": {},
     "output_type": "execute_result"
    }
   ],
   "source": [
    "202 / 5000"
   ]
  },
  {
   "cell_type": "markdown",
   "metadata": {},
   "source": [
    "So, the next step would be to program the matching method across rounds and channels to verify that the same spots decode the same way across channels. However, looking at this mess, that's obviously not going to help: that just poses an objective function that says that there should be spatial separation between codes that decode. That's just a function of spot density, and could be easily randomly generated...\n",
    "\n",
    "At this point I'm thinking \"They must have meant I should truly just take the symmetric single nearest neighbors, as it's written\". But I did that originally, got 4% barcodes decoding, and was told to do this instead, so I don't know what the fuck is going on. \n",
    "\n",
    "Also the pixel spot detector said this data is garbage, last time it ran successfully. "
   ]
  },
  {
   "cell_type": "markdown",
   "metadata": {},
   "source": [
    "## Match these traces back to data, visualize the results\n",
    "\n",
    "Plot the circular images and the spots that are contained. \n",
    "\n",
    "Plot the closest code and the selected codes"
   ]
  },
  {
   "cell_type": "markdown",
   "metadata": {},
   "source": [
    "## Conclusions"
   ]
  },
  {
   "cell_type": "markdown",
   "metadata": {},
   "source": [
    "I can't have conclusions yet. \n",
    "\n",
    "Thoughts: \n",
    "- I've been working on a small amount of data\n",
    "- I did something that seems reasonable that told me their small amount of data doesn't have signal\n",
    "- I tried our other methods, that say the same thing\n",
    "- I tried what they said to do, and it matches their text maybe? but is horribly statistically unprincipled and no one should ever do it\n",
    "- Their coding stuff is a bit odd\n",
    "\n",
    "Conclusions: \n",
    "1. I should run more data, perhaps a full field of view, using the per-round spot decoding capabilities of StarFISH. \n",
    "2. I should implement their spot detector\n",
    "3. I should get them to give us results based on the small testing subset we have to verify that they do actually expect to see signal here. "
   ]
  },
  {
   "cell_type": "markdown",
   "metadata": {},
   "source": [
    "## Try to Process SeqFISH with per-round spot detection\n",
    "\n",
    "Recall that the text of the intron-seqfish paper says something different and more reasonable than what's described above. Let's see if attempting to implement their wording does any better at calling more spots than would be expected by chance. Specifically, change the `LocalSearchBlobDetector` to examine only the set of spots that have the same residual spatial distance from the anchor position by picking the code that _decodes_.\n",
    "\n",
    "Below is the workflow we'll implement. \n",
    "\n",
    "1. Detect spots in each volume\n",
    "2. Combine the spots detected in all channels across a round\n",
    "3. select one round as an \"anchor\" and use the physical coordinates of the spots detected in all channels in that round as seeds for barcode detection\n",
    "4. Find the closest spot in each non-anchor round (within an outer bound \"search radius\") to each (z, y, x) spots from the anchor round, and build a code.\n",
    "5. **If multiple point sets have the same spatial distance, use the codebook to resolve which barcode is correct**\n",
    "6. **If multiple barcodes can still be matched to the codebook, drop the barcode**\n",
    "7. **Repeat, using all rounds as anchor, and filter points that don't refer to the same code in 4/5 rounds.**\n",
    "5. Return an `IntensityTable` containing the discovered codes. \n",
    "\n",
    "Note: I'm reloading data here because I tried to use per-round spot detection. It doesn't work yet to load the individual slices; right now you need to load the whole block and pull out the rounds after the data is already in memory. However, this _code_ should be reusable when we can pull out particular chunks without pre-loading the whole image stack. "
   ]
  },
  {
   "cell_type": "code",
   "execution_count": 5,
   "metadata": {},
   "outputs": [
    {
     "name": "stderr",
     "output_type": "stream",
     "text": [
      "100%|██████████| 1740/1740 [00:08<00:00, 205.39it/s]\n"
     ]
    }
   ],
   "source": [
    "exp = starfish.Experiment.from_json('/Users/ajc/scratch/seqfish-test/experiment.json')\n",
    "fov = exp.fov()\n",
    "img = fov.get_image('primary')"
   ]
  },
  {
   "cell_type": "markdown",
   "metadata": {},
   "source": [
    "Condense the data processing pipeline a bit. "
   ]
  },
  {
   "cell_type": "code",
   "execution_count": 6,
   "metadata": {},
   "outputs": [],
   "source": [
    "def scale_by_percentile(data, p=99.9):\n",
    "    data = np.asarray(data)\n",
    "    cval = np.percentile(data, p)\n",
    "    data = data / cval\n",
    "    data[data > 1] = 1\n",
    "    return data\n",
    "\n",
    "\n",
    "def seqfish_pipeline(img: np.ndarray):\n",
    "    print('\\tremoving background...')\n",
    "    wth = starfish.image.Filter.WhiteTophat(masking_radius=3)\n",
    "    img = wth.run(img, in_place=False)\n",
    "        \n",
    "    print('\\tequalizing intensities...')\n",
    "    img = img.apply(\n",
    "        scale_by_percentile,\n",
    "        group_by={Axes.ROUND, Axes.CH}, verbose=False, in_place=False\n",
    "    )\n",
    "    \n",
    "    print('\\tfinding spots...')\n",
    "    lsbd = starfish.spots.DetectSpots.LocalSearchBlobDetector(\n",
    "        min_sigma=(0.9, 0.9, 0.9),\n",
    "        max_sigma=(5, 5, 5),\n",
    "        num_sigma=7,\n",
    "        threshold=0.1,\n",
    "        anchor_round=0,  # we're always round zero if we're iterating through rounds\n",
    "    )\n",
    "    \n",
    "    print('\\tmerging spots by round...')\n",
    "    per_tile_spot_results = lsbd._find_spots(\n",
    "        img, \n",
    "        verbose=False, \n",
    "        n_processes=None,\n",
    "    )\n",
    "    \n",
    "    per_round_spot_results = lsbd._merge_spots_by_round(per_tile_spot_results)\n",
    "    \n",
    "    return per_round_spot_results"
   ]
  },
  {
   "cell_type": "markdown",
   "metadata": {},
   "source": [
    "Run the pipeline per round"
   ]
  },
  {
   "cell_type": "code",
   "execution_count": 7,
   "metadata": {},
   "outputs": [],
   "source": [
    "rounds = np.asarray(img.xarray[Axes.ROUND.value])"
   ]
  },
  {
   "cell_type": "code",
   "execution_count": 8,
   "metadata": {},
   "outputs": [
    {
     "name": "stdout",
     "output_type": "stream",
     "text": [
      "selecting sub-image for round 0\n",
      "\tremoving background...\n",
      "\tequalizing intensities...\n",
      "\tfinding spots...\n",
      "\tmerging spots by round...\n",
      "round 0 completed\n",
      "selecting sub-image for round 1\n",
      "\tremoving background...\n",
      "\tequalizing intensities...\n",
      "\tfinding spots...\n",
      "\tmerging spots by round...\n",
      "round 1 completed\n",
      "selecting sub-image for round 2\n",
      "\tremoving background...\n",
      "\tequalizing intensities...\n",
      "\tfinding spots...\n",
      "\tmerging spots by round...\n",
      "round 2 completed\n",
      "selecting sub-image for round 3\n",
      "\tremoving background...\n",
      "\tequalizing intensities...\n",
      "\tfinding spots...\n",
      "\tmerging spots by round...\n",
      "round 3 completed\n",
      "selecting sub-image for round 4\n",
      "\tremoving background...\n",
      "\tequalizing intensities...\n",
      "\tfinding spots...\n",
      "\tmerging spots by round...\n",
      "round 4 completed\n"
     ]
    }
   ],
   "source": [
    "spots = {}\n",
    "for r in rounds:\n",
    "    print(f\"selecting sub-image for round {r}\")\n",
    "    subimg = img.sel({Axes.ROUND: r})\n",
    "    spots[r] = seqfish_pipeline(subimg)\n",
    "    print(f\"round {r} completed\")"
   ]
  },
  {
   "cell_type": "code",
   "execution_count": 9,
   "metadata": {},
   "outputs": [],
   "source": [
    "# add round information to the tables\n",
    "for d in spots.values():\n",
    "    for r, table in d.items():\n",
    "        table[Axes.ROUND.value] = np.full(table.shape[0], fill_value=r)\n",
    "\n",
    "# extract and merge the tables\n",
    "tables = [spots[r][r] for r in rounds]\n",
    "all_spots = pd.concat(tables, axis=0)"
   ]
  },
  {
   "cell_type": "code",
   "execution_count": 10,
   "metadata": {},
   "outputs": [],
   "source": [
    "# give all spots a unique index by resetting and dropping the previous per-round indices\n",
    "all_spots = all_spots.reset_index().drop('index', axis=1)"
   ]
  },
  {
   "cell_type": "markdown",
   "metadata": {},
   "source": [
    "Update the previous code to work from the merged dataframe of spots, instead of dictionary of round-specific dataframes"
   ]
  },
  {
   "cell_type": "code",
   "execution_count": 11,
   "metadata": {},
   "outputs": [],
   "source": [
    "from sklearn.neighbors import NearestNeighbors\n",
    "\n",
    "def match_spots_n_neighbors(\n",
    "    spots: pd.DataFrame, search_radius: int, anchor_round: int, \n",
    "    n_neighbors: int,\n",
    "):\n",
    "    \"\"\" For each spot in anchor round, find the closest n spots within search_radius in all rounds.\n",
    "\n",
    "    Parameters\n",
    "    ----------\n",
    "    round_dataframes : Dict[int, pd.DataFrame]\n",
    "        Output from _merge_spots_by_round, contains mapping of image volumes from each round to\n",
    "        all the spots detected in them.\n",
    "    search_radius : int\n",
    "        The maximum (euclidean) distance in pixels for a spot to be considered matching in\n",
    "        a round subsequent to the anchor round.\n",
    "    anchor_round : int\n",
    "        The imaging round to seed the local search from.\n",
    "\n",
    "    Returns\n",
    "    -------\n",
    "    pd.DataFrame\n",
    "        Spots x rounds dataframe containing the distances to the nearest spot. np.nan if\n",
    "        no spot is detected within search radius\n",
    "    pd.DataFrame\n",
    "        Spots x rounds dataframe containing the indices of the nearest spot to the\n",
    "        corresponding round_dataframe. np.nan if no spot is detected within search radius.\n",
    "\n",
    "    \"\"\"\n",
    "    possible_rounds = np.unique(spots[Axes.ROUND.value])\n",
    "\n",
    "    reference_df = spots.loc[spots[Axes.ROUND.value] == anchor_round]\n",
    "    reference_coordinates = reference_df[[Axes.ZPLANE, Axes.Y, Axes.X]]\n",
    "\n",
    "    dist = np.zeros((len(possible_rounds), reference_df.shape[0], n_neighbors), dtype=float)\n",
    "    ind  = np.zeros((len(possible_rounds), reference_df.shape[0], n_neighbors), dtype=np.int32)\n",
    "\n",
    "    # fill data for anchor round; every spot is a perfect match to itself.\n",
    "    # this adds a single neighbor with distance zero corresponding to the anchor round spot_id\n",
    "    ind[anchor_round, :, 0] = np.arange(reference_df.shape[0], dtype=np.int32)\n",
    "    \n",
    "\n",
    "    # get spots matching across rounds\n",
    "    for r in sorted(set(possible_rounds) - {anchor_round, }):\n",
    "        query_df = spots.loc[spots[Axes.ROUND.value] == r]\n",
    "        query_coordinates = query_df[[Axes.ZPLANE, Axes.Y, Axes.X]]\n",
    "\n",
    "        # Build the classifier; chose NN over radius neighbors because data structures are\n",
    "        # amenable to vectorization, which improves execution time.\n",
    "        # TODO ambrosejcarr use n_neighbors > 1 to break ties, enable codebook-based finding\n",
    "        #      use additional axes in dist, ind to retain vectorization.\n",
    "        nn = NearestNeighbors(n_neighbors=n_neighbors)\n",
    "        nn.fit(query_coordinates)\n",
    "\n",
    "        distances, indices = nn.kneighbors(reference_coordinates)\n",
    "        dist[r] = distances\n",
    "        ind[r] = indices\n",
    "\n",
    "    return dist, ind"
   ]
  },
  {
   "cell_type": "code",
   "execution_count": 12,
   "metadata": {},
   "outputs": [],
   "source": [
    "dist, ind = match_spots_n_neighbors(all_spots, search_radius=2.45, anchor_round=0, n_neighbors=10)"
   ]
  },
  {
   "cell_type": "markdown",
   "metadata": {},
   "source": [
    "Make indices into channels again"
   ]
  },
  {
   "cell_type": "code",
   "execution_count": 13,
   "metadata": {},
   "outputs": [],
   "source": [
    "channel_data = np.empty_like(ind)\n",
    "for round_ in np.arange(ind.shape[0]):\n",
    "    linearized_indices = ind[round_].reshape(-1)\n",
    "    per_round_channel_data = all_spots.loc[all_spots[Axes.ROUND.value] == round_][Axes.CH.value]\n",
    "    channel_ids = per_round_channel_data.iloc[linearized_indices].values\n",
    "    channel_data[round_] = channel_ids.reshape(ind[round_].shape)"
   ]
  },
  {
   "cell_type": "code",
   "execution_count": 14,
   "metadata": {},
   "outputs": [],
   "source": [
    "valid_codes = set()\n",
    "for code in exp.codebook.transpose(\"target\", \"r\", \"c\"): \n",
    "    round_indices, channel_indices = np.where(code)\n",
    "    valid_codes.add(tuple(channel_indices))"
   ]
  },
  {
   "cell_type": "markdown",
   "metadata": {},
   "source": [
    "From the distances and indices, build point sets, masking any spots that:\n",
    "\n",
    "Need _two_ masks now instead of one:\n",
    "* are greater than a certain search radius, \n",
    "* **have greater distance than the preceding spot**"
   ]
  },
  {
   "cell_type": "code",
   "execution_count": 15,
   "metadata": {},
   "outputs": [],
   "source": [
    "import numpy.ma as ma"
   ]
  },
  {
   "cell_type": "code",
   "execution_count": 45,
   "metadata": {},
   "outputs": [],
   "source": [
    "search_radius = 2.45\n",
    "\n",
    "mask_radius = dist < search_radius\n",
    "\n",
    "mask_diff = np.concatenate([np.full((dist.shape[0], dist.shape[1], 1), fill_value=True), np.isclose(np.cumsum(np.diff(dist, axis=2), axis=2), 0)], axis=2)\n",
    "\n",
    "masked_ch = ma.masked_array(channel_data, ~(mask_diff & mask_radius))\n",
    "\n",
    "masked_ind = ma.masked_array(ind, ~(mask_diff & mask_radius))"
   ]
  },
  {
   "cell_type": "code",
   "execution_count": 47,
   "metadata": {},
   "outputs": [],
   "source": [
    "# reshape as (spots, rounds, neighbors)\n",
    "masked_ch = masked_ch.transpose(1, 0, 2)"
   ]
  },
  {
   "cell_type": "code",
   "execution_count": 51,
   "metadata": {},
   "outputs": [
    {
     "name": "stdout",
     "output_type": "stream",
     "text": [
      "0 spots completed\n",
      "1000 spots completed\n",
      "2000 spots completed\n",
      "3000 spots completed\n",
      "4000 spots completed\n",
      "5000 spots completed\n",
      "6000 spots completed\n",
      "7000 spots completed\n",
      "8000 spots completed\n",
      "9000 spots completed\n",
      "10000 spots completed\n",
      "11000 spots completed\n",
      "12000 spots completed\n",
      "13000 spots completed\n",
      "14000 spots completed\n",
      "15000 spots completed\n",
      "16000 spots completed\n",
      "17000 spots completed\n",
      "18000 spots completed\n",
      "19000 spots completed\n",
      "20000 spots completed\n",
      "21000 spots completed\n",
      "22000 spots completed\n",
      "23000 spots completed\n",
      "24000 spots completed\n",
      "25000 spots completed\n"
     ]
    }
   ],
   "source": [
    "n_results = np.empty((len(masked_ch)), dtype=int)\n",
    "n_tests = np.empty((len(masked_ch)), dtype=int)\n",
    "for i, row in enumerate(masked_ch):\n",
    "\n",
    "    channels_per_round = [np.unique(r.compressed()) for r in row]\n",
    "\n",
    "    potential_codes = set(product(*channels_per_round))\n",
    "\n",
    "    decoded = potential_codes.intersection(valid_codes)\n",
    "    \n",
    "    n_results[i] = len(decoded)\n",
    "    n_tests[i] = len(potential_codes)\n",
    "    \n",
    "    if not i % 1000:\n",
    "        print(f'{i} spots completed')"
   ]
  },
  {
   "cell_type": "markdown",
   "metadata": {},
   "source": [
    "How many point sets decode for each seed spot? Look at the empirical distribution"
   ]
  },
  {
   "cell_type": "code",
   "execution_count": 49,
   "metadata": {},
   "outputs": [
    {
     "data": {
      "text/plain": [
       "(array([ 0,  1,  2,  3,  4,  5,  6,  7, 32]),\n",
       " array([22078,  2771,   300,    45,    19,     5,     2,     2,     1]))"
      ]
     },
     "execution_count": 49,
     "metadata": {},
     "output_type": "execute_result"
    }
   ],
   "source": [
    "np.unique(n_results, return_counts=True)"
   ]
  },
  {
   "cell_type": "markdown",
   "metadata": {},
   "source": [
    "How many total codes decode? How many would we expect to decode in this scheme? "
   ]
  },
  {
   "cell_type": "code",
   "execution_count": 149,
   "metadata": {},
   "outputs": [
    {
     "name": "stdout",
     "output_type": "stream",
     "text": [
      "observed_codes: 3665\n",
      "expected_codes: 3647.5510223765427\n"
     ]
    }
   ],
   "source": [
    "p_decodes = exp.codebook.shape[0] / 12 ** 5\n",
    "\n",
    "expected_codes = n_tests * p_decodes\n",
    "\n",
    "print(f'observed_codes: {np.sum(n_results)}\\nexpected_codes: {np.sum(expected_codes)}')"
   ]
  },
  {
   "cell_type": "markdown",
   "metadata": {},
   "source": [
    "I recover about twice as many spots this way, but it's still right in line with expectations from random decoding if we control for the number of codes that are subject to decoding. "
   ]
  },
  {
   "cell_type": "code",
   "execution_count": 50,
   "metadata": {},
   "outputs": [
    {
     "data": {
      "text/plain": [
       "0.10986004836855251"
      ]
     },
     "execution_count": 50,
     "metadata": {},
     "output_type": "execute_result"
    }
   ],
   "source": [
    "np.sum(n_results == 1) / len(n_results)"
   ]
  },
  {
   "cell_type": "markdown",
   "metadata": {},
   "source": [
    "## Explore visualization of this type of local matching"
   ]
  },
  {
   "cell_type": "markdown",
   "metadata": {},
   "source": [
    "Take a look at the data, does it look right, but I'm just doing something wrong? "
   ]
  },
  {
   "cell_type": "code",
   "execution_count": 62,
   "metadata": {},
   "outputs": [],
   "source": [
    "masked_ind = masked_ind.transpose(1, 0, 2)"
   ]
  },
  {
   "cell_type": "code",
   "execution_count": 151,
   "metadata": {},
   "outputs": [],
   "source": [
    "def visualize_spots_within_search_radius(masked_ind, all_spots, spot_id):\n",
    "    \"\"\"\n",
    "    Given a spot ID, visualize the spots across rounds and channels\n",
    "    \n",
    "    Generates a plot, whose rows are the rounds and columns are the channels, \n",
    "    plotting just the area in which spots are identified. The exact size of the \n",
    "    extracted regions will be determined by the search radius. \n",
    "    \n",
    "    Pad the regions by 1 pixel in x and y\n",
    "    \n",
    "    \"\"\"\n",
    "    vis_spots = []\n",
    "    for i, row in enumerate(masked_ind[j]):\n",
    "        inds = np.unique(row.compressed())\n",
    "        this_round = all_spots.loc[all_spots[Axes.ROUND.value] == i]\n",
    "        vis_spots.append(this_round.iloc[inds, :])\n",
    "    vis_spots = pd.concat(vis_spots, axis=0).drop(0)\n",
    "\n",
    "    imax = np.max(vis_spots[[\"x\", \"y\", \"z\"]])\n",
    "    imin = np.min(vis_spots[[\"x\", \"y\", \"z\"]])\n",
    "\n",
    "    subimg = scaled.isel({\n",
    "        Axes.X: (imin['x'] - 1, imax['x'] + 1), \n",
    "        Axes.Y: (imin['y'] - 1, imax['y'] + 1), \n",
    "        Axes.ZPLANE: (imin['z'] - 1, imax['z'] + 1), \n",
    "    })\n",
    "    subimg = subimg.max_proj(Axes.ZPLANE)\n",
    "    clim = np.percentile(flat, (0, 99.9))\n",
    "\n",
    "    vmin, vmax = np.percentile(subimg.xarray.values, (0, 99))\n",
    "    f, axes = plt.subplots(nrows=5, ncols=12)\n",
    "    for r in range(5):\n",
    "        for c in range(12):\n",
    "            axes[r, c].imshow(subimg.xarray.sel(r=r, c=c).squeeze(), vmin=vmin, vmax=vmax)\n",
    "            axes[r, c].set_axis_off()"
   ]
  },
  {
   "cell_type": "code",
   "execution_count": 152,
   "metadata": {},
   "outputs": [
    {
     "name": "stderr",
     "output_type": "stream",
     "text": [
      "100%|██████████| 60/60 [00:00<00:00, 283.44it/s]\n"
     ]
    },
    {
     "data": {
      "image/png": "[encoded data removed]",
      "text/plain": [
       "<Figure size 432x288 with 60 Axes>"
      ]
     },
     "metadata": {
      "needs_background": "light"
     },
     "output_type": "display_data"
    }
   ],
   "source": [
    "visualize_spots_within_search_radius(masked_ind, all_spots, 2)"
   ]
  },
  {
   "cell_type": "markdown",
   "metadata": {},
   "source": [
    "No, it really does look like there are quite a few options for decoding. :\\"
   ]
  },
  {
   "cell_type": "markdown",
   "metadata": {},
   "source": [
    "## Implement the spot detector as defined, including the matching, so that we can at least say we've implemented it. "
   ]
  }
 ],
 "metadata": {
  "kernelspec": {
   "display_name": "starfish-venv",
   "language": "python",
   "name": "starfish-venv"
  },
  "language_info": {
   "codemirror_mode": {
    "name": "ipython",
    "version": 3
   },
   "file_extension": ".py",
   "mimetype": "text/x-python",
   "name": "python",
   "nbconvert_exporter": "python",
   "pygments_lexer": "ipython3",
   "version": "3.7.3"
  }
 },
 "nbformat": 4,
 "nbformat_minor": 2
}
