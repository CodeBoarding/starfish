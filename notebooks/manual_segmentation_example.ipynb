{
 "cells": [
  {
   "cell_type": "markdown",
   "metadata": {},
   "source": [
    "# Import manual segmentation results into starfish\n",
    "\n",
    "Sometimes, automated methods just don't work. We know of at least two formats in use by our users and should write some methods to enable them to use their manual segmented data in starfish: \n",
    "\n",
    "* `GeoJSON`\n",
    "* ImageJ `ROIset`\n",
    "* ImageJ mask images"
   ]
  },
  {
   "cell_type": "markdown",
   "metadata": {},
   "source": [
    "ImageJ masks can be created with the [Segmentation Editor](https://imagej.net/Segmentation_Editor) in FIJI. To demonstrate, this example will dump a MERFISH image to disk as a single-plane TIFF that can be loaded into FIJI."
   ]
  },
  {
   "cell_type": "code",
   "execution_count": 1,
   "metadata": {},
   "outputs": [],
   "source": [
    "%gui qt5"
   ]
  },
  {
   "cell_type": "code",
   "execution_count": 5,
   "metadata": {},
   "outputs": [],
   "source": [
    "%matplotlib inline\n",
    "import matplotlib\n",
    "import matplotlib.pyplot as plt\n",
    "import numpy as np\n",
    "import skimage\n",
    "from skimage import io, color, draw\n",
    "import scipy.ndimage as ndi\n",
    "\n",
    "import starfish\n",
    "import starfish.data\n",
    "from starfish.image import Filter\n",
    "from starfish.types import Axes, Coordinates, Clip\n",
    "\n",
    "# set figure DPI for screen viewing\n",
    "matplotlib.rcParams[\"figure.dpi\"] = 150"
   ]
  },
  {
   "cell_type": "code",
   "execution_count": 6,
   "metadata": {},
   "outputs": [
    {
     "data": {
      "text/plain": [
       "<starfish.Experiment (FOVs=496)>\n",
       "{\n",
       "fov_000: <starfish.FieldOfView>\n",
       "  Primary Image: <slicedimage.TileSet (r: 8, c: 2, z: 1, x: 2048, y: 2048)>\n",
       "  Auxiliary Images:\n",
       "    nuclei: <slicedimage.TileSet (r: 1, c: 1, z: 1, x: 2048, y: 2048)>\n",
       "fov_001: <starfish.FieldOfView>\n",
       "  Primary Image: <slicedimage.TileSet (r: 8, c: 2, z: 1, x: 2048, y: 2048)>\n",
       "  Auxiliary Images:\n",
       "    nuclei: <slicedimage.TileSet (r: 1, c: 1, z: 1, x: 2048, y: 2048)>\n",
       "fov_002: <starfish.FieldOfView>\n",
       "  Primary Image: <slicedimage.TileSet (r: 8, c: 2, z: 1, x: 2048, y: 2048)>\n",
       "  Auxiliary Images:\n",
       "    nuclei: <slicedimage.TileSet (r: 1, c: 1, z: 1, x: 2048, y: 2048)>\n",
       "fov_003: <starfish.FieldOfView>\n",
       "  Primary Image: <slicedimage.TileSet (r: 8, c: 2, z: 1, x: 2048, y: 2048)>\n",
       "  Auxiliary Images:\n",
       "    nuclei: <slicedimage.TileSet (r: 1, c: 1, z: 1, x: 2048, y: 2048)>\n",
       "  ...,\n",
       "}"
      ]
     },
     "execution_count": 6,
     "metadata": {},
     "output_type": "execute_result"
    }
   ],
   "source": [
    "merfish = starfish.data.MERFISH()\n",
    "merfish"
   ]
  },
  {
   "cell_type": "code",
   "execution_count": 7,
   "metadata": {},
   "outputs": [
    {
     "name": "stderr",
     "output_type": "stream",
     "text": [
      "100%|██████████| 16/16 [00:00<00:00, 34.93it/s]\n",
      "100%|██████████| 1/1 [00:00<00:00, 12.25it/s]\n",
      "100%|██████████| 16/16 [00:00<00:00, 34.30it/s]\n",
      "100%|██████████| 1/1 [00:00<00:00, 110.45it/s]\n"
     ]
    }
   ],
   "source": [
    "def load_data(fov: str):\n",
    "    fov = merfish[fov]\n",
    "    dapi = fov.get_image(\"nuclei\")\n",
    "    primary = fov.get_image(\"primary\")\n",
    "    \n",
    "    # clip outliers\n",
    "    clip = Filter.Clip(p_max=99.9, expand_dynamic_range=True)\n",
    "    clipped_primary = clip.run(primary)\n",
    "    clipped_dapi = clip.run(dapi)\n",
    "    \n",
    "    # max proj then combine the two images\n",
    "    mp = Filter.MaxProject({Axes.CH, Axes.ROUND, Axes.ZPLANE})\n",
    "    projected = mp.run(clipped_primary)\n",
    "    \n",
    "    # combine images\n",
    "    combined = np.maximum(primary.xarray.values.squeeze(), projected.xarray.values.squeeze())\n",
    "    \n",
    "    return dapi, combined\n",
    "\n",
    "dapi, combined_image = load_data(\"fov_000\")"
   ]
  },
  {
   "cell_type": "markdown",
   "metadata": {},
   "source": [
    "Dump the result to TIFF for segmentation."
   ]
  },
  {
   "cell_type": "code",
   "execution_count": 5,
   "metadata": {},
   "outputs": [],
   "source": [
    "io.imsave(\"fov_000.tiff\", combined_image)"
   ]
  },
  {
   "cell_type": "markdown",
   "metadata": {},
   "source": [
    "# Creating masks with Segmentation Manager\n",
    "\n",
    "The tiff can be dragged and dropped onto FIJI to open.\n",
    "\n",
    "The SegmentationManager can be reached through `Plugins > Segmentation > Segmentation Editor`\n",
    "\n",
    "Note: when I segmented this thing, I elected to save it as a tiff image, so we should be able to load that, too. Maybe by delegating to imageio. \n",
    "\n",
    "Segmentation workflow: \n",
    "- `Plugins > Segmentation > Segmentation Editor`\n",
    "- Click \"polygon selection\" (third button from left on GUI)\n",
    "- Create a polygon, then click the \"+\" button to finalize it. \n",
    "- Repeat until segmented\n",
    "- Save the resulting mask (I saved as tiff)"
   ]
  },
  {
   "cell_type": "markdown",
   "metadata": {},
   "source": [
    "## Load the Segmented image back into starfish\n",
    "\n",
    "\n",
    "Note that when I saved this image, I saved it as an RGB image. This is absolutely unnecessary, and unhelpful, but shows that FIJI has flexibility in how it saves, and that we also may need to either (1) only support label images and make users figure it out, (2) have some flexibility in conversion, or (3) have clear vignettes that demonstrate how to save images in FIJI so they're easily loadable. "
   ]
  },
  {
   "cell_type": "code",
   "execution_count": 3,
   "metadata": {},
   "outputs": [],
   "source": [
    "fiji_masks = io.imread(\"./fov_000.labels.tif\")\n",
    "fiji_masks_gray = skimage.color.rgb2gray(fiji_masks)\n",
    "mask = fiji_masks_gray.astype(bool)"
   ]
  },
  {
   "cell_type": "markdown",
   "metadata": {},
   "source": [
    "Convert the mask to a label image, and the label image to a `SegmentationMaskCollection`"
   ]
  },
  {
   "cell_type": "code",
   "execution_count": 8,
   "metadata": {},
   "outputs": [
    {
     "name": "stderr",
     "output_type": "stream",
     "text": [
      "100%|██████████| 1/1 [00:00<00:00, 16.06it/s]\n"
     ]
    }
   ],
   "source": [
    "# TODO: we really need to allow users to pass coordinates around (that needs to be a top-level item! \n",
    "#  If this works already, our type system needs to be clearer about what can be passed. \n",
    "\n",
    "label_image = ndi.label(mask)[0]\n",
    "\n",
    "physical_ticks={\n",
    "    starfish.types.Coordinates.X: dapi.xarray.coords[starfish.types.Coordinates.X.value],\n",
    "    starfish.types.Coordinates.Y: dapi.xarray.coords[starfish.types.Coordinates.Y.value]\n",
    "}\n",
    "masks = starfish.core.segmentation_mask.SegmentationMaskCollection.from_label_image(\n",
    "    label_image, physical_ticks=physical_ticks\n",
    ")"
   ]
  },
  {
   "cell_type": "markdown",
   "metadata": {},
   "source": [
    "View the mask collection in napari against the dapi image to verify it worked. "
   ]
  },
  {
   "cell_type": "code",
   "execution_count": 9,
   "metadata": {},
   "outputs": [
    {
     "data": {
      "text/plain": [
       "<napari.viewer.Viewer at 0x161f665f8>"
      ]
     },
     "execution_count": 9,
     "metadata": {},
     "output_type": "execute_result"
    }
   ],
   "source": [
    "%gui qt5\n",
    "starfish.display(dapi, masks=masks)"
   ]
  },
  {
   "cell_type": "code",
   "execution_count": 10,
   "metadata": {},
   "outputs": [
    {
     "data": {
      "text/plain": [
       "<matplotlib.image.AxesImage at 0x15d59d4e0>"
      ]
     },
     "execution_count": 10,
     "metadata": {},
     "output_type": "execute_result"
    },
    {
     "data": {
      "image/png": "[encoded data removed]",
      "text/plain": [
       "<Figure size 900x600 with 1 Axes>"
      ]
     },
     "metadata": {
      "needs_background": "light"
     },
     "output_type": "display_data"
    }
   ],
   "source": [
    "plt.imshow(label_image, cmap=plt.cm.nipy_spectral)"
   ]
  },
  {
   "cell_type": "markdown",
   "metadata": {},
   "source": [
    "# Creating polygons with ROI Manager\n",
    "Might want to work in the [ROImanager](http://imagej.net/docs/guide/146-30.html#fig:The-ROI-Manager) for ROIsets. \n",
    "\n",
    "Segmentation workflow: \n",
    "- Tools > ROI Manager\n",
    "- Click \"polygon selection\" (third button from left on GUI)\n",
    "- Create a polygon, then click the \"+\" button to finalize it. \n",
    "- Repeat until segmented\n",
    "- Click \"more >>>\"\n",
    "- Click \"save\" \n",
    "- Save the ROISet. \n",
    "\n",
    "Here, only segmented a small subset (~4) of the cells for demonstration purposes"
   ]
  },
  {
   "cell_type": "code",
   "execution_count": 16,
   "metadata": {},
   "outputs": [
    {
     "name": "stdout",
     "output_type": "stream",
     "text": [
      "Collecting read_roi\n",
      "  Downloading https://files.pythonhosted.org/packages/81/74/6c1f56e6e6fbdb209607596619c584baf745b0c9aaf39a416f7a687bcd09/read-roi-1.5.2.tar.gz\n",
      "Installing collected packages: read-roi\n",
      "  Running setup.py install for read-roi ... \u001b[?25ldone\n",
      "\u001b[?25hSuccessfully installed read-roi-1.5.2\n",
      "\u001b[33mYou are using pip version 19.0.3, however version 19.2.3 is available.\n",
      "You should consider upgrading via the 'pip install --upgrade pip' command.\u001b[0m\n"
     ]
    }
   ],
   "source": [
    "import sys\n",
    "!{sys.executable} -m pip install read_roi"
   ]
  },
  {
   "cell_type": "code",
   "execution_count": 11,
   "metadata": {},
   "outputs": [],
   "source": [
    "from skimage import draw\n",
    "from read_roi import read_roi_zip\n",
    "\n",
    "roi_set = read_roi_zip(\"./RoiSet.zip\")"
   ]
  },
  {
   "cell_type": "code",
   "execution_count": 122,
   "metadata": {
    "scrolled": true
   },
   "outputs": [],
   "source": [
    "from math import floor, ceil\n",
    "from typing import Dict, Sequence\n",
    "\n",
    "import xarray as xr\n",
    "import pandas as pd\n",
    "\n",
    "from starfish.core.segmentation_mask import (\n",
    "    _get_axes_names, SegmentationMaskCollection\n",
    ")\n",
    "from starfish.types import Axes\n",
    "\n",
    "def from_polygons(\n",
    "    polygons: Sequence[np.ndarray],\n",
    "    physical_ticks: Dict[Coordinates, Sequence[float]]\n",
    ") -> SegmentationMaskCollection:\n",
    "    \"\"\"\n",
    "    Creates segmentation masks from a set of polygons.\n",
    "\n",
    "    Parameters\n",
    "    ----------\n",
    "    polygons : List[np.ndrray[int]]\n",
    "        List of (N, 2) arrays which contain the (y, x) coordinates \n",
    "        of the boundaries of the polygons\n",
    "    physical_ticks : Dict[Coordinates, Sequence[float]]\n",
    "        Physical coordinates that capture the maximum extent of \n",
    "        the polygons. Often the coordinates of the full field of \n",
    "        view that encapsulates all polygons.\n",
    "        \n",
    "    Notes\n",
    "    -----\n",
    "    This method only supports construction of masks from 2D polygons \n",
    "    at this time.\n",
    "\n",
    "    Returns\n",
    "    -------\n",
    "    masks : SegmentationMaskCollection\n",
    "        Masks generated from the polygons.\n",
    "    \"\"\"\n",
    "\n",
    "    dims = Axes.Y.value, Axes.X.value\n",
    "\n",
    "    masks: List[xr.DataArray] = []\n",
    "\n",
    "    coords: Dict[str, Union[list, Tuple[str, Sequence]]]\n",
    "\n",
    "    # for each region (and its properties):\n",
    "    for label, polygon in enumerate(polygons):\n",
    "        \n",
    "        polygon = np.asarray(polygon)\n",
    "        \n",
    "        # get the maximum extent of the polygon\n",
    "        minima = np.floor(np.amin(polygon, axis=0))\n",
    "        maxima = np.ceil(np.amax(polygon, axis=0))\n",
    "        bbox = pd.DataFrame({\"min\": minima, \"max\": maxima}, index=[\"y\", \"x\"], dtype=int)\n",
    "        \n",
    "        coords = {d: list(range(bbox.loc[d, \"min\"], bbox.loc[d, \"max\"]))\n",
    "                  for d in bbox.index}\n",
    "\n",
    "        # create physical coordinate labels by taking the overlapping\n",
    "        # subset from the full span of labels\n",
    "        for dim, ticks in physical_ticks.items():\n",
    "            try:\n",
    "                dim = dim.value\n",
    "            except AttributeError:  # this is a already a string\n",
    "                dim = dim\n",
    "            # magic number alert - this is in \n",
    "            # SegmentationMaskCollection.from_label_image too, it's\n",
    "            # extracting x from xc or y from yc. Unintuitive.\n",
    "            axis = dim[0]\n",
    "            pixel_indices = range(bbox.loc[axis, \"min\"], bbox.loc[axis, \"max\"])\n",
    "            coords[dim] = (axis, ticks[pixel_indices])\n",
    "        \n",
    "        # name the polygon\n",
    "        name = str(label + 1)\n",
    "        name = name.zfill(len(str(len(polygons))))  # pad with zeros\n",
    "        \n",
    "        # The polygon will be drawn on a smaller grid, only the physical coordinates\n",
    "        # should be aware of the full pixel space, we want the origin of the drawn\n",
    "        # polygon to be (0, 0)\n",
    "        vertex_row_coords, vertex_col_coords = polygon.T\n",
    "        vertex_col_coords -= vertex_col_coords.min()\n",
    "        vertex_row_coords -= vertex_row_coords.min()\n",
    "        \n",
    "        # draw a mask from the polygon\n",
    "        shape = len(coords[Coordinates.Y.value][1]), len(coords[Coordinates.X.value][1])\n",
    "        mask = np.zeros(shape, dtype=bool)\n",
    "        fill_row_coords, fill_col_coords = draw.polygon(\n",
    "            vertex_row_coords, vertex_col_coords, shape\n",
    "        )\n",
    "        mask[fill_row_coords, fill_col_coords] = True\n",
    "\n",
    "        # combine the mask with physical coordinates\n",
    "        xr_mask = xr.DataArray(\n",
    "            mask,\n",
    "            dims=dims,\n",
    "            coords=coords,\n",
    "            name=name\n",
    "        )\n",
    "        masks.append(xr_mask)\n",
    "#     import pdb; pdb.set_trace()\n",
    "    return SegmentationMaskCollection(masks)"
   ]
  },
  {
   "cell_type": "code",
   "execution_count": 123,
   "metadata": {},
   "outputs": [],
   "source": [
    "def roiset2polygons(roi_set):\n",
    "    \"\"\"\n",
    "    Parameters\n",
    "    ----------\n",
    "    roi_set : Dict[str, Any]\n",
    "        FIJI roi_set containing {'x': Sequence[int], 'y': Sequence[int]}\n",
    "\n",
    "    Returns\n",
    "    -------\n",
    "    List[Array[int]]\n",
    "        A list of (N, 2) arrays that contain the (y, x) vertices of \n",
    "        each polygon\n",
    "    \"\"\"\n",
    "    polygons = []\n",
    "    for roi in roi_set.values():\n",
    "        polygon = np.array([roi['y'], roi['x']]).T\n",
    "        polygons.append(polygon)\n",
    "    return polygons"
   ]
  },
  {
   "cell_type": "code",
   "execution_count": 124,
   "metadata": {},
   "outputs": [],
   "source": [
    "polygons = roiset2polygons(roi_set)"
   ]
  },
  {
   "cell_type": "markdown",
   "metadata": {},
   "source": [
    "This is super cumbersome. "
   ]
  },
  {
   "cell_type": "code",
   "execution_count": 125,
   "metadata": {},
   "outputs": [],
   "source": [
    "physical_ticks = {\n",
    "    \"yc\" : dapi.xarray.coords[\"yc\"],\n",
    "    \"xc\" : dapi.xarray.coords[\"xc\"]\n",
    "}"
   ]
  },
  {
   "cell_type": "markdown",
   "metadata": {},
   "source": [
    "But this now works"
   ]
  },
  {
   "cell_type": "code",
   "execution_count": 126,
   "metadata": {},
   "outputs": [],
   "source": [
    "smc = from_polygons(polygons, physical_ticks=physical_ticks)"
   ]
  },
  {
   "cell_type": "code",
   "execution_count": 127,
   "metadata": {},
   "outputs": [
    {
     "data": {
      "text/plain": [
       "<napari.viewer.Viewer at 0x18562eb00>"
      ]
     },
     "execution_count": 127,
     "metadata": {},
     "output_type": "execute_result"
    }
   ],
   "source": [
    "starfish.display(dapi, masks=smc)"
   ]
  },
  {
   "cell_type": "markdown",
   "metadata": {},
   "source": [
    "# GeoJSON to SegmentationMaskCollection\n",
    "\n",
    "Brian long & Song-Lin Ding segmented their SpaceTx data. It's available here: \n",
    "\n",
    "https://spacetx.slack.com/archives/C8ASQLUQ2/p1565297210001200\n",
    "\n",
    "And a downsampled version of the image that they segmented from, but which does not match the polygons, is here: https://spacetx.slack.com/archives/C8ASQLUQ2/p1566850228008100"
   ]
  },
  {
   "cell_type": "code",
   "execution_count": 22,
   "metadata": {},
   "outputs": [],
   "source": [
    "import json\n",
    "with open(\"SongLinROIS_deduplicated.json\", 'rb') as f:\n",
    "    json_data = json.load(f)"
   ]
  },
  {
   "cell_type": "code",
   "execution_count": 26,
   "metadata": {},
   "outputs": [
    {
     "name": "stderr",
     "output_type": "stream",
     "text": [
      "/Users/ajc/projects/spacetx/starfish/.venv/lib/python3.7/site-packages/PIL/Image.py:2618: DecompressionBombWarning: Image size (126067200 pixels) exceeds limit of 89478485 pixels, could be decompression bomb DOS attack.\n",
      "  DecompressionBombWarning)\n"
     ]
    }
   ],
   "source": [
    "from skimage import io\n",
    "image = io.imread(\"mFISH__001_registered-downsampled.png\")"
   ]
  },
  {
   "cell_type": "markdown",
   "metadata": {},
   "source": [
    "These data are pretty complicated to work with because they're on a different coordinate grid from the image. To save some time, and demonstrate that we can indeed load in these types of polygons, this vignette will negate the values, flipping around the shape cloud.\n",
    "\n",
    "It calculates the shape on the fly from the boundary of the polygons. "
   ]
  },
  {
   "cell_type": "code",
   "execution_count": 29,
   "metadata": {},
   "outputs": [],
   "source": [
    "from math import floor, ceil\n",
    "\n",
    "def geojson2polygons(geojson: dict):\n",
    "    polygons = []\n",
    "    x_max = -np.inf\n",
    "    y_max = -np.inf\n",
    "    x_min = np.inf\n",
    "    y_min = np.inf\n",
    "    for polygon in geojson[\"geometries\"]:\n",
    "        arr_pg = -np.asarray(polygon['coordinates']).squeeze()\n",
    "        polygons.append(arr_pg)\n",
    "        x_max = max(x_max, max(arr_pg[:, 1]))\n",
    "        y_max = max(y_max, max(arr_pg[:, 0]))\n",
    "        x_min = min(x_min, min(arr_pg[:, 1]))\n",
    "        y_min = min(x_min, min(arr_pg[:, 0]))\n",
    "    bbox = [floor(y_min), floor(x_min), ceil(y_max), ceil(x_max)]\n",
    "    return polygons, bbox\n",
    "\n",
    "allen_polygons, allen_bbox = geojson2polygons(json_data)"
   ]
  },
  {
   "cell_type": "code",
   "execution_count": 129,
   "metadata": {},
   "outputs": [
    {
     "data": {
      "text/plain": [
       "[2165, 2165, 27085, 20826]"
      ]
     },
     "execution_count": 129,
     "metadata": {},
     "output_type": "execute_result"
    }
   ],
   "source": [
    "allen_bbox"
   ]
  },
  {
   "cell_type": "code",
   "execution_count": 130,
   "metadata": {},
   "outputs": [],
   "source": [
    "physical_ticks = {\n",
    "    Coordinates.Y: np.arange(allen_bbox[0], allen_bbox[2], dtype=int),\n",
    "    Coordinates.X: np.arange(allen_bbox[1], allen_bbox[3], dtype=int)\n",
    "}"
   ]
  },
  {
   "cell_type": "markdown",
   "metadata": {},
   "source": [
    "Maybe a 1-off error? didn't have time to debug. I guess this is why one writes tests... (-:"
   ]
  },
  {
   "cell_type": "code",
   "execution_count": 131,
   "metadata": {},
   "outputs": [
    {
     "ename": "IndexError",
     "evalue": "index 18661 is out of bounds for axis 0 with size 18661",
     "output_type": "error",
     "traceback": [
      "\u001b[0;31m---------------------------------------------------------------------------\u001b[0m",
      "\u001b[0;31mIndexError\u001b[0m                                Traceback (most recent call last)",
      "\u001b[0;32m<ipython-input-131-5bbb5634c3a0>\u001b[0m in \u001b[0;36m<module>\u001b[0;34m\u001b[0m\n\u001b[0;32m----> 1\u001b[0;31m \u001b[0mallen_smc\u001b[0m \u001b[0;34m=\u001b[0m \u001b[0mfrom_polygons\u001b[0m\u001b[0;34m(\u001b[0m\u001b[0mallen_polygons\u001b[0m\u001b[0;34m,\u001b[0m \u001b[0mphysical_ticks\u001b[0m\u001b[0;34m=\u001b[0m\u001b[0mphysical_ticks\u001b[0m\u001b[0;34m)\u001b[0m\u001b[0;34m\u001b[0m\u001b[0;34m\u001b[0m\u001b[0m\n\u001b[0m",
      "\u001b[0;32m<ipython-input-122-5a9c27afd871>\u001b[0m in \u001b[0;36mfrom_polygons\u001b[0;34m(polygons, physical_ticks)\u001b[0m\n\u001b[1;32m     69\u001b[0m             \u001b[0maxis\u001b[0m \u001b[0;34m=\u001b[0m \u001b[0mdim\u001b[0m\u001b[0;34m[\u001b[0m\u001b[0;36m0\u001b[0m\u001b[0;34m]\u001b[0m\u001b[0;34m\u001b[0m\u001b[0;34m\u001b[0m\u001b[0m\n\u001b[1;32m     70\u001b[0m             \u001b[0mpixel_indices\u001b[0m \u001b[0;34m=\u001b[0m \u001b[0mrange\u001b[0m\u001b[0;34m(\u001b[0m\u001b[0mbbox\u001b[0m\u001b[0;34m.\u001b[0m\u001b[0mloc\u001b[0m\u001b[0;34m[\u001b[0m\u001b[0maxis\u001b[0m\u001b[0;34m,\u001b[0m \u001b[0;34m\"min\"\u001b[0m\u001b[0;34m]\u001b[0m\u001b[0;34m,\u001b[0m \u001b[0mbbox\u001b[0m\u001b[0;34m.\u001b[0m\u001b[0mloc\u001b[0m\u001b[0;34m[\u001b[0m\u001b[0maxis\u001b[0m\u001b[0;34m,\u001b[0m \u001b[0;34m\"max\"\u001b[0m\u001b[0;34m]\u001b[0m\u001b[0;34m)\u001b[0m\u001b[0;34m\u001b[0m\u001b[0;34m\u001b[0m\u001b[0m\n\u001b[0;32m---> 71\u001b[0;31m             \u001b[0mcoords\u001b[0m\u001b[0;34m[\u001b[0m\u001b[0mdim\u001b[0m\u001b[0;34m]\u001b[0m \u001b[0;34m=\u001b[0m \u001b[0;34m(\u001b[0m\u001b[0maxis\u001b[0m\u001b[0;34m,\u001b[0m \u001b[0mticks\u001b[0m\u001b[0;34m[\u001b[0m\u001b[0mpixel_indices\u001b[0m\u001b[0;34m]\u001b[0m\u001b[0;34m)\u001b[0m\u001b[0;34m\u001b[0m\u001b[0;34m\u001b[0m\u001b[0m\n\u001b[0m\u001b[1;32m     72\u001b[0m \u001b[0;34m\u001b[0m\u001b[0m\n\u001b[1;32m     73\u001b[0m         \u001b[0;31m# name the polygon\u001b[0m\u001b[0;34m\u001b[0m\u001b[0;34m\u001b[0m\u001b[0;34m\u001b[0m\u001b[0m\n",
      "\u001b[0;31mIndexError\u001b[0m: index 18661 is out of bounds for axis 0 with size 18661"
     ]
    }
   ],
   "source": [
    "allen_smc = from_polygons(allen_polygons, physical_ticks=physical_ticks)"
   ]
  },
  {
   "cell_type": "markdown",
   "metadata": {},
   "source": [
    "Anyway, here's a hack"
   ]
  },
  {
   "cell_type": "code",
   "execution_count": 135,
   "metadata": {},
   "outputs": [],
   "source": [
    "# stolen from skimage, but made more efficient for drawing multiple polygons on the same mask\n",
    "def polygons2mask(shape, polygons):\n",
    "    \"\"\"\n",
    "    shape is size of image (tuple)\n",
    "    polygons is list of Nx2 arrays. each array contains vertices for a polygon\n",
    "    \"\"\"\n",
    "    mask = np.zeros(shape, dtype=np.bool)\n",
    "    for polygon in polygons:\n",
    "        polygon = np.asarray(polygon)\n",
    "        vertex_row_coords, vertex_col_coords = polygon.T\n",
    "        fill_row_coords, fill_col_coords = draw.polygon(\n",
    "            vertex_row_coords, vertex_col_coords, shape)\n",
    "        mask[fill_row_coords, fill_col_coords] = True\n",
    "    return mask\n",
    "\n",
    "def roiset2mask(shape, roiset):\n",
    "    \"\"\"\n",
    "    constructs a single mask out of a set of fiji rois\n",
    "    \n",
    "    shape: size of mask\n",
    "    roiset: list of fiji rois\n",
    "    \"\"\"\n",
    "    polygons = []\n",
    "    for roi in roiset.values():\n",
    "        polygon = np.array([roi['y'], roi['x']]).T\n",
    "        polygons.append(polygon)\n",
    "    return polygons2mask(shape, polygons)\n",
    "\n",
    "def roiset2maskcollection(imagestack, roiset):\n",
    "    mask = roiset2mask(imagestack.xarray.values.squeeze().shape, roiset)\n",
    "    label_image = ndi.label(mask)[0]\n",
    "    physical_ticks={\n",
    "        starfish.types.Coordinates.X: imagestack.xarray.coords[starfish.types.Coordinates.X.value],\n",
    "        starfish.types.Coordinates.Y: imagestack.xarray.coords[starfish.types.Coordinates.Y.value]\n",
    "    }\n",
    "    masks = starfish.core.segmentation_mask.SegmentationMaskCollection.from_label_image(\n",
    "        label_image, physical_ticks=physical_ticks\n",
    "    )\n",
    "    return masks\n",
    "\n",
    "def geojson2maskcollection(image: np.ndarray, geojson: dict):\n",
    "    polygons = []\n",
    "    x_max = 0\n",
    "    y_max = 0\n",
    "    for polygon in geojson[\"geometries\"]:\n",
    "        arr_pg = -np.asarray(polygon['coordinates']).squeeze()\n",
    "        polygons.append(arr_pg)\n",
    "        x_max = max(x_max, max(arr_pg[:, 1]))\n",
    "        y_max = max(y_max, max(arr_pg[:, 0]))\n",
    "    mask = polygons2mask((int(y_max), int(x_max)), polygons)\n",
    "    label_image = ndi.label(mask)[0]\n",
    "\n",
    "    # if the image were real, we'd do this:\n",
    "    # # build the image, expand the axes, and transpose the order\n",
    "    # image = color.rgb2gray(image)\n",
    "    # image = image[None, None, None, :]\n",
    "    \n",
    "    # # fake coordinates are fine, this image is stitched\n",
    "    # imagestack = starfish.ImageStack.from_numpy(image)\n",
    "    \n",
    "    # make a fake image to get coords\n",
    "    imagestack = starfish.ImageStack.from_numpy(np.zeros((1, 1, 1, int(y_max), int(x_max))))\n",
    "#     import pdb; pdb.set_trace()\n",
    "    \n",
    "    physical_ticks={\n",
    "        starfish.types.Coordinates.X: imagestack.xarray.coords[starfish.types.Coordinates.X.value],\n",
    "        starfish.types.Coordinates.Y: imagestack.xarray.coords[starfish.types.Coordinates.Y.value]\n",
    "    }\n",
    "    masks = starfish.core.segmentation_mask.SegmentationMaskCollection.from_label_image(\n",
    "        label_image, physical_ticks=physical_ticks\n",
    "    )\n",
    "    return imagestack, masks, label_image"
   ]
  },
  {
   "cell_type": "markdown",
   "metadata": {},
   "source": [
    "Something in the mask construction is not very fast when operating at scale. We should profile this."
   ]
  },
  {
   "cell_type": "code",
   "execution_count": 136,
   "metadata": {
    "scrolled": false
   },
   "outputs": [
    {
     "name": "stderr",
     "output_type": "stream",
     "text": [
      "/Users/ajc/projects/spacetx/starfish/starfish/core/imagestack/imagestack.py:349: UserWarning: ImageStack detected as float64. Converting to float32...\n",
      "  warnings.warn(f\"ImageStack detected as {array.dtype}. Converting to float32...\")\n",
      "/Users/ajc/projects/spacetx/starfish/.venv/lib/python3.7/site-packages/skimage/util/dtype.py:135: UserWarning: Possible precision loss when converting from float64 to float32\n",
      "  .format(dtypeobj_in, dtypeobj_out))\n",
      "100%|██████████| 1/1 [00:00<00:00,  1.25it/s]\n"
     ]
    }
   ],
   "source": [
    "imagestack, masks, label_image = geojson2maskcollection(image, json_data)"
   ]
  },
  {
   "cell_type": "markdown",
   "metadata": {},
   "source": [
    "Napari can't show images bigger than like ~10k x 10k due to GPU memory limitations, apparently, so this will fail. "
   ]
  },
  {
   "cell_type": "code",
   "execution_count": 38,
   "metadata": {},
   "outputs": [
    {
     "name": "stderr",
     "output_type": "stream",
     "text": [
      "WARNING: Error drawing visual <Image at 0x19adaf0f0>\n",
      "WARNING:vispy:Error drawing visual <Image at 0x19adaf0f0>\n",
      "WARNING: Traceback (most recent call last):\n",
      "  File \"/usr/local/Cellar/python/3.6.5_1/Frameworks/Python.framework/Versions/3.6/lib/python3.6/runpy.py\", line 193, in _run_module_as_main\n",
      "    \"__main__\", mod_spec)\n",
      "  File \"/usr/local/Cellar/python/3.6.5_1/Frameworks/Python.framework/Versions/3.6/lib/python3.6/runpy.py\", line 85, in _run_code\n",
      "    exec(code, run_globals)\n",
      "  File \"/usr/local/lib/python3.6/site-packages/ipykernel_launcher.py\", line 16, in <module>\n",
      "    app.launch_new_instance()\n",
      "  File \"/usr/local/lib/python3.6/site-packages/traitlets/config/application.py\", line 658, in launch_instance\n",
      "    app.start()\n",
      "  File \"/usr/local/lib/python3.6/site-packages/ipykernel/kernelapp.py\", line 505, in start\n",
      "    self.io_loop.start()\n",
      "  File \"/usr/local/lib/python3.6/site-packages/tornado/platform/asyncio.py\", line 148, in start\n",
      "    self.asyncio_loop.run_forever()\n",
      "  File \"/usr/local/Cellar/python/3.6.5_1/Frameworks/Python.framework/Versions/3.6/lib/python3.6/asyncio/base_events.py\", line 422, in run_forever\n",
      "    self._run_once()\n",
      "  File \"/usr/local/Cellar/python/3.6.5_1/Frameworks/Python.framework/Versions/3.6/lib/python3.6/asyncio/base_events.py\", line 1432, in _run_once\n",
      "    handle._run()\n",
      "  File \"/usr/local/Cellar/python/3.6.5_1/Frameworks/Python.framework/Versions/3.6/lib/python3.6/asyncio/events.py\", line 145, in _run\n",
      "    self._callback(*self._args)\n",
      "  File \"/usr/local/lib/python3.6/site-packages/tornado/ioloop.py\", line 690, in <lambda>\n",
      "    lambda f: self._run_callback(functools.partial(callback, future))\n",
      "  File \"/usr/local/lib/python3.6/site-packages/tornado/ioloop.py\", line 743, in _run_callback\n",
      "    ret = callback()\n",
      "  File \"/usr/local/lib/python3.6/site-packages/tornado/gen.py\", line 787, in inner\n",
      "    self.run()\n",
      "  File \"/usr/local/lib/python3.6/site-packages/tornado/gen.py\", line 748, in run\n",
      "    yielded = self.gen.send(value)\n",
      "  File \"/usr/local/lib/python3.6/site-packages/ipykernel/kernelbase.py\", line 365, in process_one\n",
      "    yield gen.maybe_future(dispatch(*args))\n",
      "  File \"/usr/local/lib/python3.6/site-packages/tornado/gen.py\", line 209, in wrapper\n",
      "    yielded = next(result)\n",
      "  File \"/usr/local/lib/python3.6/site-packages/ipykernel/kernelbase.py\", line 272, in dispatch_shell\n",
      "    yield gen.maybe_future(handler(stream, idents, msg))\n",
      "  File \"/usr/local/lib/python3.6/site-packages/tornado/gen.py\", line 209, in wrapper\n",
      "    yielded = next(result)\n",
      "  File \"/usr/local/lib/python3.6/site-packages/ipykernel/kernelbase.py\", line 542, in execute_request\n",
      "    user_expressions, allow_stdin,\n",
      "  File \"/usr/local/lib/python3.6/site-packages/tornado/gen.py\", line 209, in wrapper\n",
      "    yielded = next(result)\n",
      "  File \"/usr/local/lib/python3.6/site-packages/ipykernel/ipkernel.py\", line 294, in do_execute\n",
      "    res = shell.run_cell(code, store_history=store_history, silent=silent)\n",
      "  File \"/usr/local/lib/python3.6/site-packages/ipykernel/zmqshell.py\", line 536, in run_cell\n",
      "    return super(ZMQInteractiveShell, self).run_cell(*args, **kwargs)\n",
      "  File \"/usr/local/lib/python3.6/site-packages/IPython/core/interactiveshell.py\", line 2854, in run_cell\n",
      "    raw_cell, store_history, silent, shell_futures)\n",
      "  File \"/usr/local/lib/python3.6/site-packages/IPython/core/interactiveshell.py\", line 2880, in _run_cell\n",
      "    return runner(coro)\n",
      "  File \"/usr/local/lib/python3.6/site-packages/IPython/core/async_helpers.py\", line 68, in _pseudo_sync_runner\n",
      "    coro.send(None)\n",
      "  File \"/usr/local/lib/python3.6/site-packages/IPython/core/interactiveshell.py\", line 3057, in run_cell_async\n",
      "    interactivity=interactivity, compiler=compiler, result=result)\n",
      "  File \"/usr/local/lib/python3.6/site-packages/IPython/core/interactiveshell.py\", line 3248, in run_ast_nodes\n",
      "    if (await self.run_code(code, result,  async_=asy)):\n",
      "  File \"/usr/local/lib/python3.6/site-packages/IPython/core/interactiveshell.py\", line 3325, in run_code\n",
      "    exec(code_obj, self.user_global_ns, self.user_ns)\n",
      "  File \"<ipython-input-38-8c9667d647b2>\", line 1, in <module>\n",
      "    starfish.display(imagestack)\n",
      "  File \"/Users/dganguli/src/starfish/starfish/core/_display.py\", line 241, in display\n",
      "    name=\"stack\")\n",
      "  File \"/usr/local/lib/python3.6/site-packages/napari/components/viewer_model.py\", line 370, in add_image\n",
      "    self.add_layer(layer)\n",
      "  File \"/usr/local/lib/python3.6/site-packages/napari/components/viewer_model.py\", line 313, in add_layer\n",
      "    self.layers.append(layer)\n",
      "  File \"/usr/local/lib/python3.6/site-packages/napari/util/list/_model.py\", line 56, in append\n",
      "    self.events.added(item=object, index=len(self) - 1)\n",
      "  File \"/usr/local/lib/python3.6/site-packages/napari/util/event.py\", line 508, in __call__\n",
      "    self._invoke_callback(cb, event)\n",
      "  File \"/usr/local/lib/python3.6/site-packages/napari/util/event.py\", line 523, in _invoke_callback\n",
      "    cb(event)\n",
      "  File \"/usr/local/lib/python3.6/site-packages/napari/components/viewer_model.py\", line 724, in _on_layers_change\n",
      "    self.dims.ndim = len(layer_range)\n",
      "  File \"/usr/local/lib/python3.6/site-packages/napari/components/dims.py\", line 137, in ndim\n",
      "    self.events.ndim()\n",
      "  File \"/usr/local/lib/python3.6/site-packages/napari/util/event.py\", line 508, in __call__\n",
      "    self._invoke_callback(cb, event)\n",
      "  File \"/usr/local/lib/python3.6/site-packages/napari/util/event.py\", line 523, in _invoke_callback\n",
      "    cb(event)\n",
      "  File \"/usr/local/lib/python3.6/site-packages/napari/_qt/qt_dims.py\", line 63, in update_ndim_listener\n",
      "    self.update_ndim.emit()\n",
      "  File \"/usr/local/lib/python3.6/site-packages/napari/_qt/qt_dims.py\", line 186, in _update_nsliders\n",
      "    self._update_display(i)\n",
      "  File \"/usr/local/lib/python3.6/site-packages/napari/_qt/qt_dims.py\", line 174, in _update_display\n",
      "    slider.show()\n",
      "  File \"/usr/local/lib/python3.6/site-packages/vispy/app/backends/_qt.py\", line 501, in event\n",
      "    out = super(QtBaseCanvasBackend, self).event(ev)\n",
      "  File \"/usr/local/lib/python3.6/site-packages/vispy/app/backends/_qt.py\", line 501, in event\n",
      "    out = super(QtBaseCanvasBackend, self).event(ev)\n",
      "  File \"/usr/local/lib/python3.6/site-packages/vispy/app/backends/_qt.py\", line 818, in paintGL\n",
      "    self._vispy_canvas.events.draw(region=None)\n",
      "  File \"/usr/local/lib/python3.6/site-packages/vispy/util/event.py\", line 455, in __call__\n",
      "    self._invoke_callback(cb, event)\n",
      "  File \"/usr/local/lib/python3.6/site-packages/vispy/util/event.py\", line 475, in _invoke_callback\n",
      "    self, cb_event=(cb, event))\n",
      "  << caught exception here: >>\n",
      "  File \"/usr/local/lib/python3.6/site-packages/vispy/util/event.py\", line 471, in _invoke_callback\n",
      "    cb(event)\n",
      "  File \"/usr/local/lib/python3.6/site-packages/vispy/scene/canvas.py\", line 217, in on_draw\n",
      "    self._draw_scene()\n",
      "  File \"/usr/local/lib/python3.6/site-packages/vispy/scene/canvas.py\", line 266, in _draw_scene\n",
      "    self.draw_visual(self.scene)\n",
      "  File \"/usr/local/lib/python3.6/site-packages/vispy/scene/canvas.py\", line 304, in draw_visual\n",
      "    node.draw()\n",
      "  File \"/usr/local/lib/python3.6/site-packages/vispy/scene/visuals.py\", line 99, in draw\n",
      "    self._visual_superclass.draw(self)\n",
      "  File \"/usr/local/lib/python3.6/site-packages/vispy/visuals/visual.py\", line 443, in draw\n",
      "    self._vshare.index_buffer)\n",
      "  File \"/usr/local/lib/python3.6/site-packages/vispy/visuals/shaders/program.py\", line 101, in draw\n",
      "    Program.draw(self, *args, **kwargs)\n",
      "  File \"/usr/local/lib/python3.6/site-packages/vispy/gloo/program.py\", line 533, in draw\n",
      "    canvas.context.flush_commands()\n",
      "  File \"/usr/local/lib/python3.6/site-packages/vispy/gloo/context.py\", line 176, in flush_commands\n",
      "    self.glir.flush(self.shared.parser)\n",
      "  File \"/usr/local/lib/python3.6/site-packages/vispy/gloo/glir.py\", line 572, in flush\n",
      "    self._shared.flush(parser)\n",
      "  File \"/usr/local/lib/python3.6/site-packages/vispy/gloo/glir.py\", line 494, in flush\n",
      "    parser.parse(self._filter(self.clear(), parser))\n",
      "  File \"/usr/local/lib/python3.6/site-packages/vispy/gloo/glir.py\", line 819, in parse\n",
      "    self._parse(command)\n",
      "  File \"/usr/local/lib/python3.6/site-packages/vispy/gloo/glir.py\", line 779, in _parse\n",
      "    ob.draw(*args)\n",
      "  File \"/usr/local/lib/python3.6/site-packages/vispy/gloo/glir.py\", line 1322, in draw\n",
      "    gl.check_error('Check before draw')\n",
      "  File \"/usr/local/lib/python3.6/site-packages/vispy/gloo/gl/__init__.py\", line 207, in check_error\n",
      "    raise err\n",
      "RuntimeError: OpenGL got errors (Check before draw): GL_INVALID_VALUE\n"
     ]
    },
    {
     "name": "stderr",
     "output_type": "stream",
     "text": [
      "WARNING:vispy:Traceback (most recent call last):\n",
      "  File \"/usr/local/Cellar/python/3.6.5_1/Frameworks/Python.framework/Versions/3.6/lib/python3.6/runpy.py\", line 193, in _run_module_as_main\n",
      "    \"__main__\", mod_spec)\n",
      "  File \"/usr/local/Cellar/python/3.6.5_1/Frameworks/Python.framework/Versions/3.6/lib/python3.6/runpy.py\", line 85, in _run_code\n",
      "    exec(code, run_globals)\n",
      "  File \"/usr/local/lib/python3.6/site-packages/ipykernel_launcher.py\", line 16, in <module>\n",
      "    app.launch_new_instance()\n",
      "  File \"/usr/local/lib/python3.6/site-packages/traitlets/config/application.py\", line 658, in launch_instance\n",
      "    app.start()\n",
      "  File \"/usr/local/lib/python3.6/site-packages/ipykernel/kernelapp.py\", line 505, in start\n",
      "    self.io_loop.start()\n",
      "  File \"/usr/local/lib/python3.6/site-packages/tornado/platform/asyncio.py\", line 148, in start\n",
      "    self.asyncio_loop.run_forever()\n",
      "  File \"/usr/local/Cellar/python/3.6.5_1/Frameworks/Python.framework/Versions/3.6/lib/python3.6/asyncio/base_events.py\", line 422, in run_forever\n",
      "    self._run_once()\n",
      "  File \"/usr/local/Cellar/python/3.6.5_1/Frameworks/Python.framework/Versions/3.6/lib/python3.6/asyncio/base_events.py\", line 1432, in _run_once\n",
      "    handle._run()\n",
      "  File \"/usr/local/Cellar/python/3.6.5_1/Frameworks/Python.framework/Versions/3.6/lib/python3.6/asyncio/events.py\", line 145, in _run\n",
      "    self._callback(*self._args)\n",
      "  File \"/usr/local/lib/python3.6/site-packages/tornado/ioloop.py\", line 690, in <lambda>\n",
      "    lambda f: self._run_callback(functools.partial(callback, future))\n",
      "  File \"/usr/local/lib/python3.6/site-packages/tornado/ioloop.py\", line 743, in _run_callback\n",
      "    ret = callback()\n",
      "  File \"/usr/local/lib/python3.6/site-packages/tornado/gen.py\", line 787, in inner\n",
      "    self.run()\n",
      "  File \"/usr/local/lib/python3.6/site-packages/tornado/gen.py\", line 748, in run\n",
      "    yielded = self.gen.send(value)\n",
      "  File \"/usr/local/lib/python3.6/site-packages/ipykernel/kernelbase.py\", line 365, in process_one\n",
      "    yield gen.maybe_future(dispatch(*args))\n",
      "  File \"/usr/local/lib/python3.6/site-packages/tornado/gen.py\", line 209, in wrapper\n",
      "    yielded = next(result)\n",
      "  File \"/usr/local/lib/python3.6/site-packages/ipykernel/kernelbase.py\", line 272, in dispatch_shell\n",
      "    yield gen.maybe_future(handler(stream, idents, msg))\n",
      "  File \"/usr/local/lib/python3.6/site-packages/tornado/gen.py\", line 209, in wrapper\n",
      "    yielded = next(result)\n",
      "  File \"/usr/local/lib/python3.6/site-packages/ipykernel/kernelbase.py\", line 542, in execute_request\n",
      "    user_expressions, allow_stdin,\n",
      "  File \"/usr/local/lib/python3.6/site-packages/tornado/gen.py\", line 209, in wrapper\n",
      "    yielded = next(result)\n",
      "  File \"/usr/local/lib/python3.6/site-packages/ipykernel/ipkernel.py\", line 294, in do_execute\n",
      "    res = shell.run_cell(code, store_history=store_history, silent=silent)\n",
      "  File \"/usr/local/lib/python3.6/site-packages/ipykernel/zmqshell.py\", line 536, in run_cell\n",
      "    return super(ZMQInteractiveShell, self).run_cell(*args, **kwargs)\n",
      "  File \"/usr/local/lib/python3.6/site-packages/IPython/core/interactiveshell.py\", line 2854, in run_cell\n",
      "    raw_cell, store_history, silent, shell_futures)\n",
      "  File \"/usr/local/lib/python3.6/site-packages/IPython/core/interactiveshell.py\", line 2880, in _run_cell\n",
      "    return runner(coro)\n",
      "  File \"/usr/local/lib/python3.6/site-packages/IPython/core/async_helpers.py\", line 68, in _pseudo_sync_runner\n",
      "    coro.send(None)\n",
      "  File \"/usr/local/lib/python3.6/site-packages/IPython/core/interactiveshell.py\", line 3057, in run_cell_async\n",
      "    interactivity=interactivity, compiler=compiler, result=result)\n",
      "  File \"/usr/local/lib/python3.6/site-packages/IPython/core/interactiveshell.py\", line 3248, in run_ast_nodes\n",
      "    if (await self.run_code(code, result,  async_=asy)):\n",
      "  File \"/usr/local/lib/python3.6/site-packages/IPython/core/interactiveshell.py\", line 3325, in run_code\n",
      "    exec(code_obj, self.user_global_ns, self.user_ns)\n",
      "  File \"<ipython-input-38-8c9667d647b2>\", line 1, in <module>\n",
      "    starfish.display(imagestack)\n",
      "  File \"/Users/dganguli/src/starfish/starfish/core/_display.py\", line 241, in display\n",
      "    name=\"stack\")\n",
      "  File \"/usr/local/lib/python3.6/site-packages/napari/components/viewer_model.py\", line 370, in add_image\n",
      "    self.add_layer(layer)\n",
      "  File \"/usr/local/lib/python3.6/site-packages/napari/components/viewer_model.py\", line 313, in add_layer\n",
      "    self.layers.append(layer)\n",
      "  File \"/usr/local/lib/python3.6/site-packages/napari/util/list/_model.py\", line 56, in append\n",
      "    self.events.added(item=object, index=len(self) - 1)\n",
      "  File \"/usr/local/lib/python3.6/site-packages/napari/util/event.py\", line 508, in __call__\n",
      "    self._invoke_callback(cb, event)\n",
      "  File \"/usr/local/lib/python3.6/site-packages/napari/util/event.py\", line 523, in _invoke_callback\n",
      "    cb(event)\n",
      "  File \"/usr/local/lib/python3.6/site-packages/napari/components/viewer_model.py\", line 724, in _on_layers_change\n",
      "    self.dims.ndim = len(layer_range)\n",
      "  File \"/usr/local/lib/python3.6/site-packages/napari/components/dims.py\", line 137, in ndim\n",
      "    self.events.ndim()\n",
      "  File \"/usr/local/lib/python3.6/site-packages/napari/util/event.py\", line 508, in __call__\n",
      "    self._invoke_callback(cb, event)\n",
      "  File \"/usr/local/lib/python3.6/site-packages/napari/util/event.py\", line 523, in _invoke_callback\n",
      "    cb(event)\n",
      "  File \"/usr/local/lib/python3.6/site-packages/napari/_qt/qt_dims.py\", line 63, in update_ndim_listener\n",
      "    self.update_ndim.emit()\n",
      "  File \"/usr/local/lib/python3.6/site-packages/napari/_qt/qt_dims.py\", line 186, in _update_nsliders\n",
      "    self._update_display(i)\n",
      "  File \"/usr/local/lib/python3.6/site-packages/napari/_qt/qt_dims.py\", line 174, in _update_display\n",
      "    slider.show()\n",
      "  File \"/usr/local/lib/python3.6/site-packages/vispy/app/backends/_qt.py\", line 501, in event\n",
      "    out = super(QtBaseCanvasBackend, self).event(ev)\n",
      "  File \"/usr/local/lib/python3.6/site-packages/vispy/app/backends/_qt.py\", line 501, in event\n",
      "    out = super(QtBaseCanvasBackend, self).event(ev)\n",
      "  File \"/usr/local/lib/python3.6/site-packages/vispy/app/backends/_qt.py\", line 818, in paintGL\n",
      "    self._vispy_canvas.events.draw(region=None)\n",
      "  File \"/usr/local/lib/python3.6/site-packages/vispy/util/event.py\", line 455, in __call__\n",
      "    self._invoke_callback(cb, event)\n",
      "  File \"/usr/local/lib/python3.6/site-packages/vispy/util/event.py\", line 475, in _invoke_callback\n",
      "    self, cb_event=(cb, event))\n",
      "  << caught exception here: >>\n",
      "  File \"/usr/local/lib/python3.6/site-packages/vispy/util/event.py\", line 471, in _invoke_callback\n",
      "    cb(event)\n",
      "  File \"/usr/local/lib/python3.6/site-packages/vispy/scene/canvas.py\", line 217, in on_draw\n",
      "    self._draw_scene()\n",
      "  File \"/usr/local/lib/python3.6/site-packages/vispy/scene/canvas.py\", line 266, in _draw_scene\n",
      "    self.draw_visual(self.scene)\n",
      "  File \"/usr/local/lib/python3.6/site-packages/vispy/scene/canvas.py\", line 304, in draw_visual\n",
      "    node.draw()\n",
      "  File \"/usr/local/lib/python3.6/site-packages/vispy/scene/visuals.py\", line 99, in draw\n",
      "    self._visual_superclass.draw(self)\n",
      "  File \"/usr/local/lib/python3.6/site-packages/vispy/visuals/visual.py\", line 443, in draw\n",
      "    self._vshare.index_buffer)\n",
      "  File \"/usr/local/lib/python3.6/site-packages/vispy/visuals/shaders/program.py\", line 101, in draw\n",
      "    Program.draw(self, *args, **kwargs)\n",
      "  File \"/usr/local/lib/python3.6/site-packages/vispy/gloo/program.py\", line 533, in draw\n",
      "    canvas.context.flush_commands()\n",
      "  File \"/usr/local/lib/python3.6/site-packages/vispy/gloo/context.py\", line 176, in flush_commands\n",
      "    self.glir.flush(self.shared.parser)\n",
      "  File \"/usr/local/lib/python3.6/site-packages/vispy/gloo/glir.py\", line 572, in flush\n",
      "    self._shared.flush(parser)\n",
      "  File \"/usr/local/lib/python3.6/site-packages/vispy/gloo/glir.py\", line 494, in flush\n",
      "    parser.parse(self._filter(self.clear(), parser))\n",
      "  File \"/usr/local/lib/python3.6/site-packages/vispy/gloo/glir.py\", line 819, in parse\n",
      "    self._parse(command)\n",
      "  File \"/usr/local/lib/python3.6/site-packages/vispy/gloo/glir.py\", line 779, in _parse\n",
      "    ob.draw(*args)\n",
      "  File \"/usr/local/lib/python3.6/site-packages/vispy/gloo/glir.py\", line 1322, in draw\n",
      "    gl.check_error('Check before draw')\n",
      "  File \"/usr/local/lib/python3.6/site-packages/vispy/gloo/gl/__init__.py\", line 207, in check_error\n",
      "    raise err\n",
      "RuntimeError: OpenGL got errors (Check before draw): GL_INVALID_VALUE\n"
     ]
    },
    {
     "name": "stderr",
     "output_type": "stream",
     "text": [
      "ERROR: Invoking <bound method SceneCanvas.on_draw of <SceneCanvas (PyQt5) at 0x19ac92240>> for DrawEvent\n",
      "ERROR:vispy:Invoking <bound method SceneCanvas.on_draw of <SceneCanvas (PyQt5) at 0x19ac92240>> for DrawEvent\n"
     ]
    },
    {
     "data": {
      "text/plain": [
       "<napari.viewer.Viewer at 0x19ac92390>"
      ]
     },
     "execution_count": 38,
     "metadata": {},
     "output_type": "execute_result"
    },
    {
     "name": "stderr",
     "output_type": "stream",
     "text": [
      "WARNING: Error drawing visual <Image at 0x19adaf0f0>\n",
      "WARNING:vispy:Error drawing visual <Image at 0x19adaf0f0>\n",
      "ERROR: Invoking <bound method SceneCanvas.on_draw of <SceneCanvas (PyQt5) at 0x19ac92240>> repeat 2\n",
      "ERROR:vispy:Invoking <bound method SceneCanvas.on_draw of <SceneCanvas (PyQt5) at 0x19ac92240>> repeat 2\n",
      "WARNING: Error drawing visual <Image at 0x19adaf0f0>\n",
      "WARNING:vispy:Error drawing visual <Image at 0x19adaf0f0>\n",
      "WARNING: Error drawing visual <Image at 0x19adaf0f0>\n",
      "WARNING:vispy:Error drawing visual <Image at 0x19adaf0f0>\n",
      "ERROR: Invoking <bound method SceneCanvas.on_draw of <SceneCanvas (PyQt5) at 0x19ac92240>> repeat 4\n",
      "ERROR:vispy:Invoking <bound method SceneCanvas.on_draw of <SceneCanvas (PyQt5) at 0x19ac92240>> repeat 4\n",
      "WARNING: Error drawing visual <Image at 0x19adaf0f0>\n",
      "WARNING:vispy:Error drawing visual <Image at 0x19adaf0f0>\n",
      "WARNING: Error drawing visual <Image at 0x19adaf0f0>\n",
      "WARNING:vispy:Error drawing visual <Image at 0x19adaf0f0>\n",
      "WARNING: Error drawing visual <Image at 0x19adaf0f0>\n",
      "WARNING:vispy:Error drawing visual <Image at 0x19adaf0f0>\n"
     ]
    }
   ],
   "source": [
    "starfish.display(imagestack, masks=masks)"
   ]
  },
  {
   "cell_type": "markdown",
   "metadata": {},
   "source": [
    "This should work, but is a limitation of the way we've programmed starfish.display. "
   ]
  },
  {
   "cell_type": "code",
   "execution_count": 35,
   "metadata": {
    "scrolled": false
   },
   "outputs": [
    {
     "ename": "TypeError",
     "evalue": "expected a stack and/or spots; got nothing",
     "output_type": "error",
     "traceback": [
      "\u001b[0;31m---------------------------------------------------------------------------\u001b[0m",
      "\u001b[0;31mTypeError\u001b[0m                                 Traceback (most recent call last)",
      "\u001b[0;32m<ipython-input-35-b5a49a1be701>\u001b[0m in \u001b[0;36m<module>\u001b[0;34m\u001b[0m\n\u001b[0;32m----> 1\u001b[0;31m \u001b[0mstarfish\u001b[0m\u001b[0;34m.\u001b[0m\u001b[0mdisplay\u001b[0m\u001b[0;34m(\u001b[0m\u001b[0mmasks\u001b[0m\u001b[0;34m=\u001b[0m\u001b[0mmasks\u001b[0m\u001b[0;34m)\u001b[0m\u001b[0;34m\u001b[0m\u001b[0m\n\u001b[0m",
      "\u001b[0;32m~/src/starfish/starfish/core/_display.py\u001b[0m in \u001b[0;36mdisplay\u001b[0;34m(stack, spots, masks, viewer, project_axes, mask_intensities, radius_multiplier, z_multiplier)\u001b[0m\n\u001b[1;32m    202\u001b[0m     \u001b[0;32mif\u001b[0m \u001b[0mstack\u001b[0m \u001b[0;32mis\u001b[0m \u001b[0;32mNone\u001b[0m \u001b[0;32mand\u001b[0m \u001b[0mspots\u001b[0m \u001b[0;32mis\u001b[0m \u001b[0;32mNone\u001b[0m\u001b[0;34m:\u001b[0m\u001b[0;34m\u001b[0m\u001b[0m\n\u001b[1;32m    203\u001b[0m         \u001b[0;31m# masks without stack or spots have no context so don't check for that\u001b[0m\u001b[0;34m\u001b[0m\u001b[0;34m\u001b[0m\u001b[0m\n\u001b[0;32m--> 204\u001b[0;31m         \u001b[0;32mraise\u001b[0m \u001b[0mTypeError\u001b[0m\u001b[0;34m(\u001b[0m\u001b[0;34m\"expected a stack and/or spots; got nothing\"\u001b[0m\u001b[0;34m)\u001b[0m\u001b[0;34m\u001b[0m\u001b[0m\n\u001b[0m\u001b[1;32m    205\u001b[0m \u001b[0;34m\u001b[0m\u001b[0m\n\u001b[1;32m    206\u001b[0m     \u001b[0;32mtry\u001b[0m\u001b[0;34m:\u001b[0m\u001b[0;34m\u001b[0m\u001b[0m\n",
      "\u001b[0;31mTypeError\u001b[0m: expected a stack and/or spots; got nothing"
     ]
    }
   ],
   "source": [
    "starfish.display(masks=masks)"
   ]
  },
  {
   "cell_type": "markdown",
   "metadata": {},
   "source": [
    "Just imshow it for now"
   ]
  },
  {
   "cell_type": "code",
   "execution_count": 137,
   "metadata": {},
   "outputs": [
    {
     "data": {
      "text/plain": [
       "<matplotlib.image.AxesImage at 0x144000908>"
      ]
     },
     "execution_count": 137,
     "metadata": {},
     "output_type": "execute_result"
    },
    {
     "data": {
      "image/png": "[encoded data removed]",
      "text/plain": [
       "<Figure size 900x600 with 1 Axes>"
      ]
     },
     "metadata": {
      "needs_background": "light"
     },
     "output_type": "display_data"
    }
   ],
   "source": [
    "plt.imshow(label_image.T, cmap=plt.cm.nipy_spectral)"
   ]
  },
  {
   "cell_type": "markdown",
   "metadata": {},
   "source": [
    "The `SegmentationMaskCollection` should be fine and should be usable with downstream point assignments, despite napari not working. For downstream point assignments, the coordinate negation should be eliminated from the above function. "
   ]
  }
 ],
 "metadata": {
  "kernelspec": {
   "display_name": "starfish",
   "language": "python",
   "name": "starfish"
  },
  "language_info": {
   "codemirror_mode": {
    "name": "ipython",
    "version": 3
   },
   "file_extension": ".py",
   "mimetype": "text/x-python",
   "name": "python",
   "nbconvert_exporter": "python",
   "pygments_lexer": "ipython3",
   "version": "3.7.3"
  }
 },
 "nbformat": 4,
 "nbformat_minor": 2
}
