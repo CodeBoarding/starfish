{
 "cells": [
  {
   "cell_type": "code",
   "execution_count": null,
   "metadata": {},
   "outputs": [],
   "source": [
    "import os\n",
    "import pickle\n",
    "\n",
    "import matplotlib.pyplot as plt\n",
    "import numpy as np\n",
    "import pandas as pd\n",
    "\n",
    "import starfish\n",
    "import starfish.data\n",
    "from starfish import FieldOfView, IntensityTable\n",
    "from starfish.types import Axes\n",
    "\n",
    "%matplotlib inline\n",
    "%load_ext autoreload\n",
    "%autoreload 2"
   ]
  },
  {
   "cell_type": "code",
   "execution_count": null,
   "metadata": {},
   "outputs": [],
   "source": [
    "def load_results(pickle_file):\n",
    "    with open(pickle_file, \"rb\") as f:\n",
    "        return pickle.load(f)\n",
    "\n",
    "def get_benchmark_peaks(loaded_results, redo_flag=False):\n",
    "\n",
    "    if not redo_flag:\n",
    "        sp = pd.DataFrame(\n",
    "            {\n",
    "                \"y\":loaded_results[\"selected_peaks\"][:,0],\n",
    "                \"x\":loaded_results[\"selected_peaks\"][:,1],\n",
    "                \"selected_peaks_int\": loaded_results[\"selected_peaks_int\"],\n",
    "            }\n",
    "        )\n",
    "    else:\n",
    "        p = peaks(loaded_results)\n",
    "        coords = p[p.thr_array==loaded_results[\"selected_thr\"]].peaks_coords\n",
    "        coords = coords.values[0]\n",
    "        sp = pd.DataFrame({\"x\":coords[:,0], \"y\":coords[:,1]})\n",
    "\n",
    "    return sp\n",
    "\n",
    "try:\n",
    "    module_path = __file__\n",
    "except NameError:\n",
    "    # this is probably being run from jupyter\n",
    "    cwd = \".\"\n",
    "else:\n",
    "    cwd = os.path.dirname(module_path)\n",
    "benchmark_results = load_results(os.path.join(\n",
    "    cwd, \"data\", \"EXP-17-BP3597_hyb1_Aldoc_pos_33.pkl\"))\n",
    "benchmark_peaks = get_benchmark_peaks(benchmark_results, redo_flag=False)"
   ]
  },
  {
   "cell_type": "code",
   "execution_count": null,
   "metadata": {},
   "outputs": [],
   "source": [
    "experiment = starfish.data.osmFISH(use_test_data=True)\n",
    "intensities = list()\n",
    "for stack in experiment.fov().iterate_image_type(FieldOfView.PRIMARY_IMAGES):"
   ]
  },
  {
   "cell_type": "code",
   "execution_count": null,
   "metadata": {},
   "outputs": [],
   "source": [
    "benchmark_spot_count = len(benchmark_peaks)\n",
    "starfish_spot_count = len(spot_intensities)\n",
    "\n",
    "plt.figure(figsize=(10,10))\n",
    "plt.plot(benchmark_peaks.x, -benchmark_peaks.y, \"o\")\n",
    "plt.plot(spot_intensities[Axes.X.value], -spot_intensities[Axes.Y.value], \"x\")\n",
    "\n",
    "plt.legend([\"Benchmark: {} spots\".format(benchmark_spot_count),\n",
    "            \"Starfish: {} spots\".format(starfish_spot_count)])\n",
    "plt.title(\"Starfish x osmFISH Benchmark Comparison\");"
   ]
  },
  {
   "cell_type": "code",
   "execution_count": null,
   "metadata": {},
   "outputs": [],
   "source": [
    "spot_difference = benchmark_spot_count - starfish_spot_count\n",
    "print(f\"Starfish finds {spot_difference} fewer spots\")\n",
    "assert spot_difference == 41  # for starfish testing purposes"
   ]
  }
 ],
 "metadata": {
  "kernelspec": {
   "display_name": "starfish",
   "language": "python",
   "name": "starfish"
  },
  "language_info": {
   "codemirror_mode": {
    "name": "ipython",
    "version": 3
   },
   "file_extension": ".py",
   "mimetype": "text/x-python",
   "name": "python",
   "nbconvert_exporter": "python",
   "pygments_lexer": "ipython3",
   "version": "3.6.5"
  }
 },
 "nbformat": 4,
 "nbformat_minor": 2
}